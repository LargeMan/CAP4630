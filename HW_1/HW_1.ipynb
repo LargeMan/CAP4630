{
  "nbformat": 4,
  "nbformat_minor": 0,
  "metadata": {
    "colab": {
      "name": "HW_1.ipynb",
      "provenance": [],
      "collapsed_sections": [],
      "authorship_tag": "ABX9TyNpSZUw5A9cdEFYT0zknUV1",
      "include_colab_link": true
    },
    "kernelspec": {
      "name": "python3",
      "display_name": "Python 3"
    }
  },
  "cells": [
    {
      "cell_type": "markdown",
      "metadata": {
        "id": "view-in-github",
        "colab_type": "text"
      },
      "source": [
        "<a href=\"https://colab.research.google.com/github/LargeMan/CAP4630/blob/master/HW_1/HW_1.ipynb\" target=\"_parent\"><img src=\"https://colab.research.google.com/assets/colab-badge.svg\" alt=\"Open In Colab\"/></a>"
      ]
    },
    {
      "cell_type": "markdown",
      "metadata": {
        "id": "VX8hw75e8mJl",
        "colab_type": "text"
      },
      "source": [
        "#Homework 1"
      ]
    },
    {
      "cell_type": "code",
      "metadata": {
        "id": "XccweAwQq5Gt",
        "colab_type": "code",
        "colab": {}
      },
      "source": [
        "import numpy as np"
      ],
      "execution_count": 0,
      "outputs": []
    },
    {
      "cell_type": "markdown",
      "metadata": {
        "id": "xtqQDLVQ4cbV",
        "colab_type": "text"
      },
      "source": [
        "The following function takes a list of matricies and multiplies each\n",
        "of them in the order they appear in the list. That is, the first matrix in the list is multiplied by the second, the result is multiplied by the third, and so\n",
        "on."
      ]
    },
    {
      "cell_type": "code",
      "metadata": {
        "id": "ldLGP98WpOv1",
        "colab_type": "code",
        "colab": {}
      },
      "source": [
        "def multiply_matrices(inval):\n",
        "  matrices = inval\n",
        "  prev = matrices.pop(0)\n",
        "  try:\n",
        "    for mat in matrices:\n",
        "      prev = np.matmul(prev, mat)\n",
        "\n",
        "  except ValueError as e:\n",
        "    print(e)\n",
        "    print(\"Pairs involved:\\n\" + str(prev) + \",\\n\" + str(mat) + \"\\n\")\n",
        "    prev = np.array([0])\n",
        "  \n",
        "  return prev"
      ],
      "execution_count": 0,
      "outputs": []
    },
    {
      "cell_type": "markdown",
      "metadata": {
        "id": "pnxZxaeb4BPN",
        "colab_type": "text"
      },
      "source": [
        "Test Case for Exception"
      ]
    },
    {
      "cell_type": "code",
      "metadata": {
        "id": "cGDWcvGSqAou",
        "colab_type": "code",
        "outputId": "621fca1a-95f8-400e-bbb9-3a035bb13d9a",
        "colab": {
          "base_uri": "https://localhost:8080/",
          "height": 146
        }
      },
      "source": [
        "a = np.array([[1, 0], [0, 1]])\n",
        "b = np.array([[4, 1], [2, 2]])\n",
        "\n",
        "x = multiply_matrices([b,3])\n",
        "print(x)"
      ],
      "execution_count": 34,
      "outputs": [
        {
          "output_type": "stream",
          "text": [
            "matmul: Input operand 1 does not have enough dimensions (has 0, gufunc core with signature (n?,k),(k,m?)->(n?,m?) requires 1)\n",
            "Pairs involved:\n",
            "[[4 1]\n",
            " [2 2]],\n",
            "3\n",
            "\n",
            "[0]\n"
          ],
          "name": "stdout"
        }
      ]
    }
  ]
}