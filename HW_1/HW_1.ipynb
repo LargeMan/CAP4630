{
  "nbformat": 4,
  "nbformat_minor": 0,
  "metadata": {
    "colab": {
      "name": "HW_1.ipynb",
      "provenance": [],
      "collapsed_sections": [],
      "include_colab_link": true
    },
    "kernelspec": {
      "name": "python3",
      "display_name": "Python 3"
    }
  },
  "cells": [
    {
      "cell_type": "markdown",
      "metadata": {
        "id": "view-in-github",
        "colab_type": "text"
      },
      "source": [
        "<a href=\"https://colab.research.google.com/github/LargeMan/CAP4630/blob/master/HW_1/HW_1.ipynb\" target=\"_parent\"><img src=\"https://colab.research.google.com/assets/colab-badge.svg\" alt=\"Open In Colab\"/></a>"
      ]
    },
    {
      "cell_type": "markdown",
      "metadata": {
        "id": "VX8hw75e8mJl",
        "colab_type": "text"
      },
      "source": [
        "#Homework 1"
      ]
    },
    {
      "cell_type": "markdown",
      "metadata": {
        "id": "pm-OatBUhelR",
        "colab_type": "text"
      },
      "source": [
        "When multiplying two matrices, the number of ***columns*** in the first matrix must equal the number of ***rows*** in the second.\n",
        "\n",
        "For example, the following matrix multiplication is valid:\n",
        "\n",
        "\\begin{equation*}\n",
        "  \\begin{bmatrix}\n",
        "  1 & 2 & 3\\\\\n",
        "  4 & 5 & 6\n",
        "  \\end{bmatrix}\n",
        "  *\n",
        "  \\begin{bmatrix}\n",
        "  1 & 2\\\\\n",
        "  3 & 4\\\\\n",
        "  5 & 6\n",
        "  \\end{bmatrix}\n",
        "  = \\begin{bmatrix}\n",
        "  22 & 28\\\\\n",
        "  49 & 64\n",
        "  \\end{bmatrix}\n",
        "\\end{equation*}\n",
        "The final matrix is the result of multiplying every **row** of the first matrix by every **column** of the second (hence why number of rows in the first has to equal number of columns in the second).<br/><br/>\n",
        "\n",
        "\n",
        "Below is the answer to the above example, but before any multiplication or addition is done.<br/><br/>\n",
        "\n",
        "\\begin{equation*}\n",
        "  = \\begin{bmatrix}\n",
        "  [(1*1)+(2*3)+(3*5)] & [(1*2)+(2*4)+(3*6)]\\\\\n",
        "  [(4*1)+(5*3)+(6*5)] & [(4*2)+(5*4)+(6*6)]\n",
        "  \\end{bmatrix} \n",
        "\\end{equation*}\n",
        "<br/>\n",
        "\n",
        "On the other hand, matrices that do not have matching numbers of rows/columns cannot be multiplied. The following example is invalid:<br/>\n",
        "\n",
        "\n",
        "\\begin{equation*}\n",
        "  \\begin{bmatrix}\n",
        "  1 & 2 & 3\\\\\n",
        "  4 & 5 & 6\n",
        "  \\end{bmatrix}\n",
        "  *\n",
        "  \\begin{bmatrix}\n",
        "  1 & 2\\\\\n",
        "  3 & 4\n",
        "  \\end{bmatrix}\n",
        "\\end{equation*}\n",
        "<br/>\n",
        "\n",
        "The following code defines a function that will take a list of matrices as an input, and return the result of every matrix multipled by each other in order. If this fails, then an error is printed describing the error."
      ]
    },
    {
      "cell_type": "code",
      "metadata": {
        "id": "XccweAwQq5Gt",
        "colab_type": "code",
        "colab": {}
      },
      "source": [
        "import numpy as np\n",
        "from typing import List"
      ],
      "execution_count": 0,
      "outputs": []
    },
    {
      "cell_type": "markdown",
      "metadata": {
        "id": "xtqQDLVQ4cbV",
        "colab_type": "text"
      },
      "source": [
        "The following function takes a list of matricies and multiplies each\n",
        "of them in the order they appear in the list. That is, the first matrix in the list is multiplied by the second, the result is multiplied by the third, and so\n",
        "on."
      ]
    },
    {
      "cell_type": "code",
      "metadata": {
        "id": "ldLGP98WpOv1",
        "colab_type": "code",
        "colab": {}
      },
      "source": [
        "def multiply_matrices(inval : List[np.ndarray]):\n",
        "  '''Multiplies a list of matrices and returns the result (or None)'''\n",
        "  if not inval: # empty list is consided 'False' by python\n",
        "    print(\"ERROR: The list is empty!\")\n",
        "    return\n",
        "\n",
        "  matrices = inval.copy()\n",
        "  prev = matrices.pop(0)\n",
        "\n",
        "  try:\n",
        "    for i, mat in enumerate(matrices):\n",
        "      # check if element is not a np array\n",
        "      if not isinstance(mat, np.ndarray):\n",
        "        print(\"Element '{}' at index {} of the input list \" +\n",
        "              \"is not a np array!\".format(mat, i+1))\n",
        "        return None\n",
        "\n",
        "      prev = np.matmul(prev, mat)\n",
        "      #print(prev)\n",
        "  except ValueError as e:\n",
        "    # Prints an error describing the problem matrices\n",
        "    print(\"Matrix\\n\\n{}\\n\\nhas {} columns, but matrix\\n\\n{}\\n\\nhas {} rows!\\n\".format(\n",
        "        prev, np.size(prev, 1), mat, np.size(mat, 0)))\n",
        "    print(\"These numbers must be equal to be a valid operation!\\n\")\n",
        "    print(\"This error occurs at index {} of the input list;\".format(i+1))\n",
        "    print(\"the matrix prior to this is\\n{}\\n\".format(inval[i]))\n",
        "    return None\n",
        "\n",
        "   \n",
        "  return prev"
      ],
      "execution_count": 0,
      "outputs": []
    },
    {
      "cell_type": "markdown",
      "metadata": {
        "id": "pnxZxaeb4BPN",
        "colab_type": "text"
      },
      "source": [
        "## Test Case for Type Exception"
      ]
    },
    {
      "cell_type": "code",
      "metadata": {
        "id": "cGDWcvGSqAou",
        "colab_type": "code",
        "outputId": "a004608c-f1a5-4ab3-f157-3f1506eb8c67",
        "colab": {
          "base_uri": "https://localhost:8080/",
          "height": 53
        }
      },
      "source": [
        "# NOTE: The homework said the input list should consist of np.arrays,\n",
        "#       so the following will fail. If scalar support should be a thing,\n",
        "#       please let me know!\n",
        "\n",
        "a = np.array([[1, 0], [0, 1]])\n",
        "b = np.array([[4, 1], [2, 2]])\n",
        "\n",
        "x = multiply_matrices([b,3])\n",
        "print(x)"
      ],
      "execution_count": 68,
      "outputs": [
        {
          "output_type": "stream",
          "text": [
            "Element '{}' at index {} of the input list is not a np array!\n",
            "None\n"
          ],
          "name": "stdout"
        }
      ]
    },
    {
      "cell_type": "markdown",
      "metadata": {
        "id": "VitGlHBhySZF",
        "colab_type": "text"
      },
      "source": [
        "## Test Cases for valid input list of numpy arrays\n",
        "This test case is equivalent to the following equation:\n",
        "$$\n",
        "\\begin{equation*}\n",
        "  \\begin{bmatrix}\n",
        "  1 & 4\\\\\n",
        "  8 & 1\n",
        "  \\end{bmatrix}\n",
        "  *\n",
        "  \\begin{bmatrix}\n",
        "  4 & 1\\\\\n",
        "  2 & 2\n",
        "  \\end{bmatrix}\n",
        "  = \\begin{bmatrix}\n",
        "  12 & 9\\\\\n",
        "  34 & 10\n",
        "  \\end{bmatrix}\n",
        "\\end{equation*}\n",
        "$$"
      ]
    },
    {
      "cell_type": "code",
      "metadata": {
        "id": "YYGtRN2QlLea",
        "colab_type": "code",
        "outputId": "1eef6f12-9bce-405a-f43e-7a18f2abad19",
        "colab": {
          "base_uri": "https://localhost:8080/",
          "height": 53
        }
      },
      "source": [
        "a = np.array([[1, 4], [8, 1]])\n",
        "b = np.array([[4, 1], [2, 2]])\n",
        "\n",
        "x = multiply_matrices([a, b])\n",
        "print(x)"
      ],
      "execution_count": 69,
      "outputs": [
        {
          "output_type": "stream",
          "text": [
            "[[12  9]\n",
            " [34 10]]\n"
          ],
          "name": "stdout"
        }
      ]
    },
    {
      "cell_type": "markdown",
      "metadata": {
        "id": "rfLoYsBVzTG6",
        "colab_type": "text"
      },
      "source": [
        "This test case is equivalent to the following equation:\n",
        "$$\n",
        "\\begin{equation*}\n",
        "  \\begin{bmatrix}\n",
        "  1 & 2 & 3\\\\\n",
        "  4 & 5 & 6\n",
        "  \\end{bmatrix}\n",
        "  *\n",
        "  \\begin{bmatrix}\n",
        "  1 & 2\\\\\n",
        "  3 & 4\\\\\n",
        "  5 & 6\n",
        "  \\end{bmatrix}\n",
        "  = \\begin{bmatrix}\n",
        "  22 & 28\\\\\n",
        "  49 & 64\n",
        "  \\end{bmatrix}\n",
        "\\end{equation*}\n",
        "$$"
      ]
    },
    {
      "cell_type": "code",
      "metadata": {
        "id": "hP_cS9OhzbaB",
        "colab_type": "code",
        "colab": {
          "base_uri": "https://localhost:8080/",
          "height": 53
        },
        "outputId": "acce8d3c-ddab-491a-b5f7-29b89bcce09f"
      },
      "source": [
        "c = np.array([[1, 2, 3], [4, 5, 6]])\n",
        "d = np.array([[1, 2], [3, 4], [5, 6]])\n",
        "\n",
        "y = multiply_matrices([c, d])\n",
        "print(x)"
      ],
      "execution_count": 70,
      "outputs": [
        {
          "output_type": "stream",
          "text": [
            "[[12  9]\n",
            " [34 10]]\n"
          ],
          "name": "stdout"
        }
      ]
    },
    {
      "cell_type": "markdown",
      "metadata": {
        "id": "t0imiO6gzzFz",
        "colab_type": "text"
      },
      "source": [
        "This test case is equivalent to the following equation:\n",
        "This test case is equivalent to the following equation:\n",
        "$$\n",
        "\\begin{equation*}\n",
        "  \\left(\n",
        "  \\left(\n",
        "  \\left(\n",
        "  \\begin{bmatrix}\n",
        "  1 & 2 & 3\\\\\n",
        "  4 & 5 & 6\n",
        "  \\end{bmatrix}\n",
        "  *\n",
        "  \\begin{bmatrix}\n",
        "  1 & 2\\\\\n",
        "  3 & 4\\\\\n",
        "  5 & 6\n",
        "  \\end{bmatrix}\n",
        "  \\right)\n",
        "  *\n",
        "  \\begin{bmatrix}\n",
        "  1 & 4\\\\\n",
        "  8 & 1\n",
        "  \\end{bmatrix}\n",
        "  \\right)\n",
        "  *\n",
        "  \\begin{bmatrix}\n",
        "  4 & 1\\\\\n",
        "  2 & 2\n",
        "  \\end{bmatrix}\n",
        "  \\right)\n",
        "  = \\begin{bmatrix}\n",
        "  1856 & 2408\\\\\n",
        "  4214 & 5468\n",
        "  \\end{bmatrix}\n",
        "\\end{equation*}\n",
        "$$"
      ]
    },
    {
      "cell_type": "markdown",
      "metadata": {
        "colab_type": "text",
        "id": "4_3417X3ycEb"
      },
      "source": [
        "## Test Case for empty list\n",
        "\n",
        " \n"
      ]
    },
    {
      "cell_type": "code",
      "metadata": {
        "id": "tmTpdFc_nKh6",
        "colab_type": "code",
        "outputId": "525dac1c-b997-4aaa-b962-b97746287e55",
        "colab": {
          "base_uri": "https://localhost:8080/",
          "height": 35
        }
      },
      "source": [
        "multiply_matrices([])"
      ],
      "execution_count": 71,
      "outputs": [
        {
          "output_type": "stream",
          "text": [
            "ERROR: The list is empty!\n"
          ],
          "name": "stdout"
        }
      ]
    },
    {
      "cell_type": "markdown",
      "metadata": {
        "id": "FvksdiLMyfVl",
        "colab_type": "text"
      },
      "source": [
        "## Test Case for single list"
      ]
    },
    {
      "cell_type": "code",
      "metadata": {
        "id": "3JYBq2vz9hxq",
        "colab_type": "code",
        "outputId": "77c46188-bbee-4857-9c7c-cd2a55ccec5a",
        "colab": {
          "base_uri": "https://localhost:8080/",
          "height": 72
        }
      },
      "source": [
        "multiply_matrices([np.eye(3)])"
      ],
      "execution_count": 72,
      "outputs": [
        {
          "output_type": "execute_result",
          "data": {
            "text/plain": [
              "array([[1., 0., 0.],\n",
              "       [0., 1., 0.],\n",
              "       [0., 0., 1.]])"
            ]
          },
          "metadata": {
            "tags": []
          },
          "execution_count": 72
        }
      ]
    },
    {
      "cell_type": "markdown",
      "metadata": {
        "id": "aLuaIt93-LsZ",
        "colab_type": "text"
      },
      "source": [
        "## Test Case for incompatible matrices"
      ]
    },
    {
      "cell_type": "code",
      "metadata": {
        "id": "C7ldWSh599YA",
        "colab_type": "code",
        "outputId": "d3957496-530d-478e-cde1-3a3bd38b0b1b",
        "colab": {
          "base_uri": "https://localhost:8080/",
          "height": 381
        }
      },
      "source": [
        "multiply_matrices([np.eye(3),np.eye(3),np.ones(2)])"
      ],
      "execution_count": 73,
      "outputs": [
        {
          "output_type": "stream",
          "text": [
            "Matrix\n",
            "\n",
            "[[1. 0. 0.]\n",
            " [0. 1. 0.]\n",
            " [0. 0. 1.]]\n",
            "\n",
            "has 3 columns, but matrix\n",
            "\n",
            "[1. 1.]\n",
            "\n",
            "has 2 rows!\n",
            "\n",
            "These numbers must be equal to be a valid operation!\n",
            "\n",
            "This error occurs at index 2 of the input list;\n",
            "the matrix prior to this is\n",
            "[[1. 0. 0.]\n",
            " [0. 1. 0.]\n",
            " [0. 0. 1.]]\n",
            "\n"
          ],
          "name": "stdout"
        }
      ]
    }
  ]
}