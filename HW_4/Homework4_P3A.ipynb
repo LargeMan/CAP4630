{
  "nbformat": 4,
  "nbformat_minor": 0,
  "metadata": {
    "colab": {
      "name": "Homework4_P3A.ipynb",
      "provenance": [],
      "include_colab_link": true
    },
    "kernelspec": {
      "name": "python3",
      "display_name": "Python 3"
    },
    "accelerator": "GPU"
  },
  "cells": [
    {
      "cell_type": "markdown",
      "metadata": {
        "id": "view-in-github",
        "colab_type": "text"
      },
      "source": [
        "<a href=\"https://colab.research.google.com/github/LargeMan/CAP4630/blob/master/HW_4/Homework4_P3A.ipynb\" target=\"_parent\"><img src=\"https://colab.research.google.com/assets/colab-badge.svg\" alt=\"Open In Colab\"/></a>"
      ]
    },
    {
      "cell_type": "markdown",
      "metadata": {
        "id": "KSrgMJ5vKFzQ",
        "colab_type": "text"
      },
      "source": [
        "# Fine-tuning VGG16 "
      ]
    },
    {
      "cell_type": "markdown",
      "metadata": {
        "id": "TIW7bZaAK-Hf",
        "colab_type": "text"
      },
      "source": [
        "This is based on section 5.3 *Using a pretrained convnet* of the book *Deep learning with Python* by Francois Chollet. I have made several changes to the code. I use the data that is already provided by Google. I don't download the data from Kaggle as in the deep learning book."
      ]
    },
    {
      "cell_type": "markdown",
      "metadata": {
        "id": "nsBq__dVo2pj",
        "colab_type": "text"
      },
      "source": [
        "## Feature extraction"
      ]
    },
    {
      "cell_type": "markdown",
      "metadata": {
        "id": "0g6ETAM9o54M",
        "colab_type": "text"
      },
      "source": [
        "Feature extraction consists of using the representations learned by a previous network to extract interesting features from new samples. These features are then run through a new classifier, which is trained from scratch.\n",
        "\n",
        "We will use here the convolutional base of the VGG16 model to extract the features. We will feed these features to a densely connected classifier with dropout. We will fine-tune some layers."
      ]
    },
    {
      "cell_type": "markdown",
      "metadata": {
        "id": "BqIG8QHMLNOn",
        "colab_type": "text"
      },
      "source": [
        "## Download the data"
      ]
    },
    {
      "cell_type": "markdown",
      "metadata": {
        "id": "t3I1jd7cKV6_",
        "colab_type": "text"
      },
      "source": [
        "Download the example data, a zip. of 2,000 JPG pictures of cats and dogs and extract it locally in ```/tmp```.\n",
        "\n"
      ]
    },
    {
      "cell_type": "code",
      "metadata": {
        "id": "JWjprHEXJ5Qi",
        "colab_type": "code",
        "outputId": "49dd17c6-c41d-4b7c-b780-3c024570b3e9",
        "colab": {
          "base_uri": "https://localhost:8080/",
          "height": 217
        }
      },
      "source": [
        "!wget --no-check-certificate \\\n",
        "    https://storage.googleapis.com/mledu-datasets/cats_and_dogs_filtered.zip \\\n",
        "    -O /tmp/cats_and_dogs_filtered.zip"
      ],
      "execution_count": 1,
      "outputs": [
        {
          "output_type": "stream",
          "text": [
            "--2020-04-21 23:17:37--  https://storage.googleapis.com/mledu-datasets/cats_and_dogs_filtered.zip\n",
            "Resolving storage.googleapis.com (storage.googleapis.com)... 74.125.20.128, 2607:f8b0:400e:c04::80\n",
            "Connecting to storage.googleapis.com (storage.googleapis.com)|74.125.20.128|:443... connected.\n",
            "HTTP request sent, awaiting response... 200 OK\n",
            "Length: 68606236 (65M) [application/zip]\n",
            "Saving to: ‘/tmp/cats_and_dogs_filtered.zip’\n",
            "\n",
            "/tmp/cats_and_dogs_ 100%[===================>]  65.43M   107MB/s    in 0.6s    \n",
            "\n",
            "2020-04-21 23:17:38 (107 MB/s) - ‘/tmp/cats_and_dogs_filtered.zip’ saved [68606236/68606236]\n",
            "\n"
          ],
          "name": "stdout"
        }
      ]
    },
    {
      "cell_type": "code",
      "metadata": {
        "id": "WvoHtdA-K6Rw",
        "colab_type": "code",
        "colab": {}
      },
      "source": [
        "import os\n",
        "import zipfile\n",
        "\n",
        "local_zip = '/tmp/cats_and_dogs_filtered.zip'\n",
        "zip_ref = zipfile.ZipFile(local_zip, 'r')\n",
        "zip_ref.extractall('/tmp')\n",
        "zip_ref.close()"
      ],
      "execution_count": 0,
      "outputs": []
    },
    {
      "cell_type": "markdown",
      "metadata": {
        "id": "shZiOBnJMyy_",
        "colab_type": "text"
      },
      "source": [
        "Note that the data provided by Google does not have a test set."
      ]
    },
    {
      "cell_type": "code",
      "metadata": {
        "id": "dL8ikM89LlsH",
        "colab_type": "code",
        "colab": {}
      },
      "source": [
        "base_dir = '/tmp/cats_and_dogs_filtered'\n",
        "train_dir = os.path.join(base_dir, 'train')\n",
        "validation_dir = os.path.join(base_dir, 'validation')\n",
        "\n",
        "# Directory with our training cat pictures\n",
        "train_cats_dir = os.path.join(train_dir, 'cats')\n",
        "\n",
        "# Directory with our training dog pictures\n",
        "train_dogs_dir = os.path.join(train_dir, 'dogs')\n",
        "\n",
        "# Directory with our validation cat pictures\n",
        "validation_cats_dir = os.path.join(validation_dir, 'cats')\n",
        "\n",
        "# Directory with our validation dog pictures\n",
        "validation_dogs_dir = os.path.join(validation_dir, 'dogs')"
      ],
      "execution_count": 0,
      "outputs": []
    },
    {
      "cell_type": "markdown",
      "metadata": {
        "id": "inyP8bcdXnn-",
        "colab_type": "text"
      },
      "source": [
        "## Build network with VGG16 convolution base and custom densely connected layers"
      ]
    },
    {
      "cell_type": "markdown",
      "metadata": {
        "id": "kQ48W5T9rHWu",
        "colab_type": "text"
      },
      "source": [
        "### Load the convolutional base"
      ]
    },
    {
      "cell_type": "code",
      "metadata": {
        "id": "Y0FgtANCXm_H",
        "colab_type": "code",
        "outputId": "34664bca-a5cb-4c67-ba34-1be6eb94b4bf",
        "colab": {
          "base_uri": "https://localhost:8080/",
          "height": 108
        }
      },
      "source": [
        "from keras.applications import MobileNet as MNet\n",
        "\n",
        "conv_base = MNet(\n",
        "    weights='imagenet', \n",
        "    include_top=False, \n",
        "    input_shape=(150, 150, 3))\n",
        "#model.summary()"
      ],
      "execution_count": 4,
      "outputs": [
        {
          "output_type": "stream",
          "text": [
            "Using TensorFlow backend.\n",
            "/usr/local/lib/python3.6/dist-packages/keras_applications/mobilenet.py:207: UserWarning: `input_shape` is undefined or non-square, or `rows` is not in [128, 160, 192, 224]. Weights for input shape (224, 224) will be loaded as the default.\n",
            "  warnings.warn('`input_shape` is undefined or non-square, '\n"
          ],
          "name": "stderr"
        },
        {
          "output_type": "stream",
          "text": [
            "Downloading data from https://github.com/fchollet/deep-learning-models/releases/download/v0.6/mobilenet_1_0_224_tf_no_top.h5\n",
            "17227776/17225924 [==============================] - 1s 0us/step\n"
          ],
          "name": "stdout"
        }
      ]
    },
    {
      "cell_type": "markdown",
      "metadata": {
        "id": "D6OBHOO9q1ou",
        "colab_type": "text"
      },
      "source": [
        "### Freeze the convolutional base"
      ]
    },
    {
      "cell_type": "code",
      "metadata": {
        "id": "UleRo4Dpq6Ld",
        "colab_type": "code",
        "colab": {}
      },
      "source": [
        "conv_base.trainable = False"
      ],
      "execution_count": 0,
      "outputs": []
    },
    {
      "cell_type": "markdown",
      "metadata": {
        "id": "Qfx6PqhPrb7Q",
        "colab_type": "text"
      },
      "source": [
        "### Concatenate the convolutional base and densely connected layers"
      ]
    },
    {
      "cell_type": "code",
      "metadata": {
        "id": "qUpmocDAO3xm",
        "colab_type": "code",
        "colab": {}
      },
      "source": [
        "from keras import layers\n",
        "from keras import models\n",
        "from keras import optimizers\n",
        "\n",
        "model = models.Sequential()\n",
        "model.add(conv_base)\n",
        "model.add(layers.Flatten())\n",
        "model.add(layers.Dense(256, activation='relu'))\n",
        "model.add(layers.Dropout(0.1))\n",
        "model.add(layers.Dense(1, activation='sigmoid'))"
      ],
      "execution_count": 0,
      "outputs": []
    },
    {
      "cell_type": "code",
      "metadata": {
        "id": "Fh6gZSeAjF7c",
        "colab_type": "code",
        "outputId": "f9180fb2-f842-4587-8bfb-7c0ae28081d7",
        "colab": {
          "base_uri": "https://localhost:8080/",
          "height": 345
        }
      },
      "source": [
        "model.summary()"
      ],
      "execution_count": 7,
      "outputs": [
        {
          "output_type": "stream",
          "text": [
            "Model: \"sequential_1\"\n",
            "_________________________________________________________________\n",
            "Layer (type)                 Output Shape              Param #   \n",
            "=================================================================\n",
            "mobilenet_1.00_224 (Model)   (None, 4, 4, 1024)        3228864   \n",
            "_________________________________________________________________\n",
            "flatten_1 (Flatten)          (None, 16384)             0         \n",
            "_________________________________________________________________\n",
            "dense_1 (Dense)              (None, 256)               4194560   \n",
            "_________________________________________________________________\n",
            "dropout_1 (Dropout)          (None, 256)               0         \n",
            "_________________________________________________________________\n",
            "dense_2 (Dense)              (None, 1)                 257       \n",
            "=================================================================\n",
            "Total params: 7,423,681\n",
            "Trainable params: 4,194,817\n",
            "Non-trainable params: 3,228,864\n",
            "_________________________________________________________________\n"
          ],
          "name": "stdout"
        }
      ]
    },
    {
      "cell_type": "markdown",
      "metadata": {
        "id": "eZjBiddhi5Qj",
        "colab_type": "text"
      },
      "source": [
        "## Train the model end to end with frozen convolutional base"
      ]
    },
    {
      "cell_type": "code",
      "metadata": {
        "id": "tfAQlC2Oi41L",
        "colab_type": "code",
        "outputId": "10c31536-19e9-4bc0-e24f-01a0366a864c",
        "colab": {
          "base_uri": "https://localhost:8080/",
          "height": 1000
        }
      },
      "source": [
        "from keras.preprocessing.image import ImageDataGenerator\n",
        "from keras import optimizers\n",
        "\n",
        "# data augmentation\n",
        "\n",
        "train_datagen = ImageDataGenerator(\n",
        "    rescale=1./255, \n",
        "    rotation_range=40,\n",
        "    width_shift_range=0.2,\n",
        "    height_shift_range=0.2,\n",
        "    shear_range=0.2,\n",
        "    zoom_range=0.2,\n",
        "    horizontal_flip=True,\n",
        "    fill_mode='nearest'\n",
        ")\n",
        "\n",
        "train_generator = train_datagen.flow_from_directory(\n",
        "    train_dir,\n",
        "    target_size=(150, 150),\n",
        "    batch_size=20,\n",
        "    class_mode='binary')\n",
        "\n",
        "validation_datagen = ImageDataGenerator(rescale=1./255)\n",
        "\n",
        "validation_generator = validation_datagen.flow_from_directory(\n",
        "    validation_dir,\n",
        "    target_size=(150, 150),\n",
        "    batch_size=20,\n",
        "    class_mode='binary')\n",
        "\n",
        "# compile model\n",
        "\n",
        "model.compile(\n",
        "    loss='binary_crossentropy', \n",
        "    optimizer=optimizers.RMSprop(lr=2e-5), \n",
        "    metrics=['acc'])\n",
        "\n",
        "# train\n",
        "\n",
        "history = model.fit_generator(\n",
        "    train_generator,\n",
        "    steps_per_epoch=100,\n",
        "    epochs=30,\n",
        "    validation_data=validation_generator,\n",
        "    validation_steps=50\n",
        ")"
      ],
      "execution_count": 8,
      "outputs": [
        {
          "output_type": "stream",
          "text": [
            "Found 2000 images belonging to 2 classes.\n",
            "Found 1000 images belonging to 2 classes.\n",
            "Epoch 1/30\n",
            "100/100 [==============================] - 25s 248ms/step - loss: 0.4995 - acc: 0.7820 - val_loss: 0.2858 - val_acc: 0.9380\n",
            "Epoch 2/30\n",
            "100/100 [==============================] - 17s 171ms/step - loss: 0.3334 - acc: 0.8660 - val_loss: 0.2178 - val_acc: 0.9510\n",
            "Epoch 3/30\n",
            "100/100 [==============================] - 17s 171ms/step - loss: 0.2949 - acc: 0.8815 - val_loss: 0.0063 - val_acc: 0.9640\n",
            "Epoch 4/30\n",
            "100/100 [==============================] - 17s 171ms/step - loss: 0.2287 - acc: 0.9055 - val_loss: 0.0662 - val_acc: 0.9630\n",
            "Epoch 5/30\n",
            "100/100 [==============================] - 17s 168ms/step - loss: 0.2327 - acc: 0.8990 - val_loss: 0.0063 - val_acc: 0.9580\n",
            "Epoch 6/30\n",
            "100/100 [==============================] - 17s 173ms/step - loss: 0.2430 - acc: 0.9055 - val_loss: 0.7111 - val_acc: 0.9450\n",
            "Epoch 7/30\n",
            "100/100 [==============================] - 17s 170ms/step - loss: 0.2215 - acc: 0.9060 - val_loss: 2.6138e-04 - val_acc: 0.9680\n",
            "Epoch 8/30\n",
            "100/100 [==============================] - 17s 168ms/step - loss: 0.2204 - acc: 0.9145 - val_loss: 0.0520 - val_acc: 0.9620\n",
            "Epoch 9/30\n",
            "100/100 [==============================] - 17s 168ms/step - loss: 0.2053 - acc: 0.9185 - val_loss: 8.1742e-04 - val_acc: 0.9660\n",
            "Epoch 10/30\n",
            "100/100 [==============================] - 17s 169ms/step - loss: 0.2106 - acc: 0.9245 - val_loss: 0.1556 - val_acc: 0.9650\n",
            "Epoch 11/30\n",
            "100/100 [==============================] - 17s 169ms/step - loss: 0.2134 - acc: 0.9165 - val_loss: 1.3851e-04 - val_acc: 0.9670\n",
            "Epoch 12/30\n",
            "100/100 [==============================] - 17s 167ms/step - loss: 0.1955 - acc: 0.9190 - val_loss: 0.0167 - val_acc: 0.9650\n",
            "Epoch 13/30\n",
            "100/100 [==============================] - 17s 169ms/step - loss: 0.2072 - acc: 0.9120 - val_loss: 0.0037 - val_acc: 0.9650\n",
            "Epoch 14/30\n",
            "100/100 [==============================] - 17s 168ms/step - loss: 0.1904 - acc: 0.9280 - val_loss: 5.5859e-04 - val_acc: 0.9680\n",
            "Epoch 15/30\n",
            "100/100 [==============================] - 17s 169ms/step - loss: 0.1749 - acc: 0.9295 - val_loss: 0.0015 - val_acc: 0.9580\n",
            "Epoch 16/30\n",
            "100/100 [==============================] - 17s 168ms/step - loss: 0.2020 - acc: 0.9195 - val_loss: 0.0331 - val_acc: 0.9700\n",
            "Epoch 17/30\n",
            "100/100 [==============================] - 17s 169ms/step - loss: 0.1508 - acc: 0.9400 - val_loss: 5.9156e-04 - val_acc: 0.9610\n",
            "Epoch 18/30\n",
            "100/100 [==============================] - 17s 169ms/step - loss: 0.1689 - acc: 0.9320 - val_loss: 9.6469e-04 - val_acc: 0.9680\n",
            "Epoch 19/30\n",
            "100/100 [==============================] - 17s 168ms/step - loss: 0.1833 - acc: 0.9245 - val_loss: 2.3016e-04 - val_acc: 0.9690\n",
            "Epoch 20/30\n",
            "100/100 [==============================] - 17s 171ms/step - loss: 0.1832 - acc: 0.9285 - val_loss: 0.0020 - val_acc: 0.9680\n",
            "Epoch 21/30\n",
            "100/100 [==============================] - 17s 168ms/step - loss: 0.1783 - acc: 0.9315 - val_loss: 0.2463 - val_acc: 0.9680\n",
            "Epoch 22/30\n",
            "100/100 [==============================] - 17s 168ms/step - loss: 0.1720 - acc: 0.9310 - val_loss: 4.0161e-04 - val_acc: 0.9650\n",
            "Epoch 23/30\n",
            "100/100 [==============================] - 17s 169ms/step - loss: 0.1733 - acc: 0.9375 - val_loss: 0.0462 - val_acc: 0.9670\n",
            "Epoch 24/30\n",
            "100/100 [==============================] - 17s 170ms/step - loss: 0.1764 - acc: 0.9260 - val_loss: 3.7418e-04 - val_acc: 0.9710\n",
            "Epoch 25/30\n",
            "100/100 [==============================] - 17s 172ms/step - loss: 0.1577 - acc: 0.9355 - val_loss: 8.2426e-05 - val_acc: 0.9710\n",
            "Epoch 26/30\n",
            "100/100 [==============================] - 17s 170ms/step - loss: 0.1698 - acc: 0.9340 - val_loss: 0.2212 - val_acc: 0.9640\n",
            "Epoch 27/30\n",
            "100/100 [==============================] - 17s 170ms/step - loss: 0.1586 - acc: 0.9365 - val_loss: 9.3925e-06 - val_acc: 0.9630\n",
            "Epoch 28/30\n",
            "100/100 [==============================] - 17s 171ms/step - loss: 0.1725 - acc: 0.9345 - val_loss: 1.4120e-04 - val_acc: 0.9690\n",
            "Epoch 29/30\n",
            "100/100 [==============================] - 17s 171ms/step - loss: 0.1423 - acc: 0.9400 - val_loss: 2.6486e-06 - val_acc: 0.9700\n",
            "Epoch 30/30\n",
            "100/100 [==============================] - 17s 174ms/step - loss: 0.1607 - acc: 0.9380 - val_loss: 0.0981 - val_acc: 0.9650\n"
          ],
          "name": "stdout"
        }
      ]
    },
    {
      "cell_type": "markdown",
      "metadata": {
        "id": "xqRc_vHKc92U",
        "colab_type": "text"
      },
      "source": [
        "## Display curves of loss and accuracy during training"
      ]
    },
    {
      "cell_type": "code",
      "metadata": {
        "id": "ybWwdzz9bwuQ",
        "colab_type": "code",
        "outputId": "bad7b489-b87c-457e-c89d-ae253451b803",
        "colab": {
          "base_uri": "https://localhost:8080/",
          "height": 545
        }
      },
      "source": [
        "%matplotlib inline\n",
        "\n",
        "import matplotlib.pyplot as plt\n",
        "\n",
        "acc = history.history['acc']\n",
        "val_acc = history.history['val_acc']\n",
        "\n",
        "loss = history.history['loss']\n",
        "val_loss = history.history['val_loss']\n",
        "\n",
        "epochs = range(1, len(acc) + 1)\n",
        "\n",
        "# training and validation accuracy\n",
        "\n",
        "plt.plot(epochs, acc, 'bo', label='training acc')\n",
        "plt.plot(epochs, val_acc, 'b', label='validation acc')\n",
        "plt.title('training and validation accuracy')\n",
        "plt.legend()\n",
        "\n",
        "plt.figure()\n",
        "\n",
        "# training and validation loss\n",
        "\n",
        "plt.plot(epochs, loss, 'bo', label='training loss')\n",
        "plt.plot(epochs, val_loss, 'b', label='validation loss')\n",
        "plt.title('training and validation loss')\n",
        "plt.legend()\n",
        "\n",
        "plt.show()"
      ],
      "execution_count": 9,
      "outputs": [
        {
          "output_type": "display_data",
          "data": {
            "image/png": "[encoded data removed]",
            "text/plain": [
              "<Figure size 432x288 with 1 Axes>"
            ]
          },
          "metadata": {
            "tags": [],
            "needs_background": "light"
          }
        },
        {
          "output_type": "display_data",
          "data": {
            "image/png": "[encoded data removed]",
            "text/plain": [
              "<Figure size 432x288 with 1 Axes>"
            ]
          },
          "metadata": {
            "tags": [],
            "needs_background": "light"
          }
        }
      ]
    },
    {
      "cell_type": "markdown",
      "metadata": {
        "id": "lOWsxpey8lN0",
        "colab_type": "text"
      },
      "source": [
        "## Fine-tuning"
      ]
    },
    {
      "cell_type": "code",
      "metadata": {
        "id": "PwkVMx8N8qMw",
        "colab_type": "code",
        "colab": {}
      },
      "source": [
        "conv_base.trainable = True\n",
        "\n",
        "set_trainable = False\n",
        "for layer in conv_base.layers:\n",
        "  if layer.name == 'conv_pw_12':\n",
        "    set_trainable = True\n",
        "  if set_trainable:\n",
        "    layer.trainable = True\n",
        "  else:\n",
        "    layer.trainable = False"
      ],
      "execution_count": 0,
      "outputs": []
    },
    {
      "cell_type": "code",
      "metadata": {
        "id": "DyN-J7rs9cvo",
        "colab_type": "code",
        "outputId": "9203e332-37a4-4738-ba61-35d9241b6d82",
        "colab": {
          "base_uri": "https://localhost:8080/",
          "height": 1000
        }
      },
      "source": [
        "# compile model\n",
        "\n",
        "model.compile(\n",
        "    loss='binary_crossentropy',\n",
        "    #\n",
        "    # choose a smaller learning rate\n",
        "    #\n",
        "    optimizer=optimizers.RMSprop(lr=1e-5), \n",
        "    metrics=['acc'])\n",
        "\n",
        "# train\n",
        "\n",
        "history = model.fit_generator(\n",
        "    train_generator,\n",
        "    steps_per_epoch=100,\n",
        "    epochs=100,\n",
        "    validation_data=validation_generator,\n",
        "    validation_steps=50)"
      ],
      "execution_count": 11,
      "outputs": [
        {
          "output_type": "stream",
          "text": [
            "Epoch 1/100\n",
            "100/100 [==============================] - 20s 205ms/step - loss: 0.1511 - acc: 0.9460 - val_loss: 0.2446 - val_acc: 0.9650\n",
            "Epoch 2/100\n",
            "100/100 [==============================] - 18s 176ms/step - loss: 0.1434 - acc: 0.9380 - val_loss: 0.4203 - val_acc: 0.9550\n",
            "Epoch 3/100\n",
            "100/100 [==============================] - 18s 177ms/step - loss: 0.1286 - acc: 0.9500 - val_loss: 0.0076 - val_acc: 0.9630\n",
            "Epoch 4/100\n",
            "100/100 [==============================] - 18s 178ms/step - loss: 0.1674 - acc: 0.9360 - val_loss: 0.0285 - val_acc: 0.9550\n",
            "Epoch 5/100\n",
            "100/100 [==============================] - 18s 178ms/step - loss: 0.1444 - acc: 0.9350 - val_loss: 0.1073 - val_acc: 0.9580\n",
            "Epoch 6/100\n",
            "100/100 [==============================] - 18s 175ms/step - loss: 0.1476 - acc: 0.9455 - val_loss: 0.0154 - val_acc: 0.9580\n",
            "Epoch 7/100\n",
            "100/100 [==============================] - 18s 176ms/step - loss: 0.1444 - acc: 0.9460 - val_loss: 0.0036 - val_acc: 0.9640\n",
            "Epoch 8/100\n",
            "100/100 [==============================] - 18s 177ms/step - loss: 0.1279 - acc: 0.9540 - val_loss: 0.0111 - val_acc: 0.9600\n",
            "Epoch 9/100\n",
            "100/100 [==============================] - 18s 176ms/step - loss: 0.1225 - acc: 0.9520 - val_loss: 0.2474 - val_acc: 0.9610\n",
            "Epoch 10/100\n",
            "100/100 [==============================] - 18s 176ms/step - loss: 0.1357 - acc: 0.9470 - val_loss: 0.0146 - val_acc: 0.9640\n",
            "Epoch 11/100\n",
            "100/100 [==============================] - 17s 174ms/step - loss: 0.1114 - acc: 0.9595 - val_loss: 0.0516 - val_acc: 0.9580\n",
            "Epoch 12/100\n",
            "100/100 [==============================] - 18s 181ms/step - loss: 0.1347 - acc: 0.9515 - val_loss: 0.0770 - val_acc: 0.9610\n",
            "Epoch 13/100\n",
            "100/100 [==============================] - 18s 177ms/step - loss: 0.1190 - acc: 0.9510 - val_loss: 0.2842 - val_acc: 0.9610\n",
            "Epoch 14/100\n",
            "100/100 [==============================] - 18s 176ms/step - loss: 0.1437 - acc: 0.9385 - val_loss: 0.0242 - val_acc: 0.9610\n",
            "Epoch 15/100\n",
            "100/100 [==============================] - 18s 178ms/step - loss: 0.1079 - acc: 0.9560 - val_loss: 0.0053 - val_acc: 0.9570\n",
            "Epoch 16/100\n",
            "100/100 [==============================] - 18s 175ms/step - loss: 0.1391 - acc: 0.9405 - val_loss: 0.1441 - val_acc: 0.9600\n",
            "Epoch 17/100\n",
            "100/100 [==============================] - 18s 177ms/step - loss: 0.1345 - acc: 0.9485 - val_loss: 0.4792 - val_acc: 0.9590\n",
            "Epoch 18/100\n",
            "100/100 [==============================] - 18s 177ms/step - loss: 0.1270 - acc: 0.9480 - val_loss: 0.1621 - val_acc: 0.9600\n",
            "Epoch 19/100\n",
            "100/100 [==============================] - 18s 177ms/step - loss: 0.1208 - acc: 0.9515 - val_loss: 0.1300 - val_acc: 0.9610\n",
            "Epoch 20/100\n",
            "100/100 [==============================] - 18s 175ms/step - loss: 0.1022 - acc: 0.9570 - val_loss: 5.2300e-04 - val_acc: 0.9640\n",
            "Epoch 21/100\n",
            "100/100 [==============================] - 18s 177ms/step - loss: 0.1188 - acc: 0.9515 - val_loss: 0.0426 - val_acc: 0.9650\n",
            "Epoch 22/100\n",
            "100/100 [==============================] - 18s 178ms/step - loss: 0.1176 - acc: 0.9500 - val_loss: 0.0330 - val_acc: 0.9650\n",
            "Epoch 23/100\n",
            "100/100 [==============================] - 18s 178ms/step - loss: 0.1219 - acc: 0.9535 - val_loss: 0.2952 - val_acc: 0.9670\n",
            "Epoch 24/100\n",
            "100/100 [==============================] - 18s 178ms/step - loss: 0.1348 - acc: 0.9540 - val_loss: 8.9259e-04 - val_acc: 0.9690\n",
            "Epoch 25/100\n",
            "100/100 [==============================] - 18s 178ms/step - loss: 0.0870 - acc: 0.9675 - val_loss: 0.1510 - val_acc: 0.9560\n",
            "Epoch 26/100\n",
            "100/100 [==============================] - 18s 176ms/step - loss: 0.1286 - acc: 0.9525 - val_loss: 0.0414 - val_acc: 0.9650\n",
            "Epoch 27/100\n",
            "100/100 [==============================] - 18s 177ms/step - loss: 0.1093 - acc: 0.9555 - val_loss: 0.0850 - val_acc: 0.9540\n",
            "Epoch 28/100\n",
            "100/100 [==============================] - 18s 176ms/step - loss: 0.1030 - acc: 0.9585 - val_loss: 0.3262 - val_acc: 0.9640\n",
            "Epoch 29/100\n",
            "100/100 [==============================] - 18s 178ms/step - loss: 0.1078 - acc: 0.9580 - val_loss: 0.0215 - val_acc: 0.9670\n",
            "Epoch 30/100\n",
            "100/100 [==============================] - 18s 176ms/step - loss: 0.0868 - acc: 0.9650 - val_loss: 0.1115 - val_acc: 0.9660\n",
            "Epoch 31/100\n",
            "100/100 [==============================] - 18s 176ms/step - loss: 0.0994 - acc: 0.9620 - val_loss: 0.2031 - val_acc: 0.9600\n",
            "Epoch 32/100\n",
            "100/100 [==============================] - 18s 176ms/step - loss: 0.1009 - acc: 0.9625 - val_loss: 0.0136 - val_acc: 0.9570\n",
            "Epoch 33/100\n",
            "100/100 [==============================] - 17s 174ms/step - loss: 0.1014 - acc: 0.9640 - val_loss: 0.1775 - val_acc: 0.9620\n",
            "Epoch 34/100\n",
            "100/100 [==============================] - 17s 175ms/step - loss: 0.1026 - acc: 0.9610 - val_loss: 0.1033 - val_acc: 0.9640\n",
            "Epoch 35/100\n",
            "100/100 [==============================] - 17s 175ms/step - loss: 0.0893 - acc: 0.9665 - val_loss: 0.2926 - val_acc: 0.9610\n",
            "Epoch 36/100\n",
            "100/100 [==============================] - 18s 175ms/step - loss: 0.1008 - acc: 0.9615 - val_loss: 3.0920e-05 - val_acc: 0.9660\n",
            "Epoch 37/100\n",
            "100/100 [==============================] - 17s 175ms/step - loss: 0.1172 - acc: 0.9640 - val_loss: 0.0201 - val_acc: 0.9610\n",
            "Epoch 38/100\n",
            "100/100 [==============================] - 18s 175ms/step - loss: 0.0888 - acc: 0.9620 - val_loss: 8.0391e-04 - val_acc: 0.9600\n",
            "Epoch 39/100\n",
            "100/100 [==============================] - 18s 176ms/step - loss: 0.1081 - acc: 0.9650 - val_loss: 0.0969 - val_acc: 0.9660\n",
            "Epoch 40/100\n",
            "100/100 [==============================] - 17s 175ms/step - loss: 0.0959 - acc: 0.9695 - val_loss: 0.2766 - val_acc: 0.9590\n",
            "Epoch 41/100\n",
            "100/100 [==============================] - 18s 175ms/step - loss: 0.1260 - acc: 0.9605 - val_loss: 0.0036 - val_acc: 0.9610\n",
            "Epoch 42/100\n",
            "100/100 [==============================] - 17s 173ms/step - loss: 0.0828 - acc: 0.9705 - val_loss: 0.1625 - val_acc: 0.9640\n",
            "Epoch 43/100\n",
            "100/100 [==============================] - 17s 175ms/step - loss: 0.0949 - acc: 0.9625 - val_loss: 0.0094 - val_acc: 0.9570\n",
            "Epoch 44/100\n",
            "100/100 [==============================] - 18s 175ms/step - loss: 0.0977 - acc: 0.9650 - val_loss: 0.3268 - val_acc: 0.9580\n",
            "Epoch 45/100\n",
            "100/100 [==============================] - 17s 175ms/step - loss: 0.0982 - acc: 0.9625 - val_loss: 0.0141 - val_acc: 0.9620\n",
            "Epoch 46/100\n",
            "100/100 [==============================] - 18s 176ms/step - loss: 0.0904 - acc: 0.9690 - val_loss: 0.1088 - val_acc: 0.9630\n",
            "Epoch 47/100\n",
            "100/100 [==============================] - 18s 175ms/step - loss: 0.0874 - acc: 0.9660 - val_loss: 0.5197 - val_acc: 0.9520\n",
            "Epoch 48/100\n",
            "100/100 [==============================] - 17s 173ms/step - loss: 0.0985 - acc: 0.9625 - val_loss: 0.0357 - val_acc: 0.9590\n",
            "Epoch 49/100\n",
            "100/100 [==============================] - 17s 173ms/step - loss: 0.0730 - acc: 0.9740 - val_loss: 0.2619 - val_acc: 0.9600\n",
            "Epoch 50/100\n",
            "100/100 [==============================] - 17s 174ms/step - loss: 0.0903 - acc: 0.9685 - val_loss: 0.4308 - val_acc: 0.9590\n",
            "Epoch 51/100\n",
            "100/100 [==============================] - 17s 175ms/step - loss: 0.0940 - acc: 0.9655 - val_loss: 0.0641 - val_acc: 0.9620\n",
            "Epoch 52/100\n",
            "100/100 [==============================] - 17s 173ms/step - loss: 0.0715 - acc: 0.9730 - val_loss: 0.0849 - val_acc: 0.9610\n",
            "Epoch 53/100\n",
            "100/100 [==============================] - 17s 174ms/step - loss: 0.0883 - acc: 0.9680 - val_loss: 0.0718 - val_acc: 0.9680\n",
            "Epoch 54/100\n",
            "100/100 [==============================] - 17s 174ms/step - loss: 0.0805 - acc: 0.9715 - val_loss: 0.1230 - val_acc: 0.9630\n",
            "Epoch 55/100\n",
            "100/100 [==============================] - 17s 173ms/step - loss: 0.0862 - acc: 0.9680 - val_loss: 0.2707 - val_acc: 0.9590\n",
            "Epoch 56/100\n",
            "100/100 [==============================] - 17s 172ms/step - loss: 0.0766 - acc: 0.9710 - val_loss: 0.1229 - val_acc: 0.9610\n",
            "Epoch 57/100\n",
            "100/100 [==============================] - 17s 173ms/step - loss: 0.0716 - acc: 0.9700 - val_loss: 0.0176 - val_acc: 0.9630\n",
            "Epoch 58/100\n",
            "100/100 [==============================] - 18s 178ms/step - loss: 0.0727 - acc: 0.9735 - val_loss: 0.0146 - val_acc: 0.9560\n",
            "Epoch 59/100\n",
            "100/100 [==============================] - 18s 180ms/step - loss: 0.0876 - acc: 0.9655 - val_loss: 0.1202 - val_acc: 0.9620\n",
            "Epoch 60/100\n",
            "100/100 [==============================] - 18s 178ms/step - loss: 0.0719 - acc: 0.9740 - val_loss: 0.2958 - val_acc: 0.9560\n",
            "Epoch 61/100\n",
            "100/100 [==============================] - 18s 176ms/step - loss: 0.0792 - acc: 0.9695 - val_loss: 0.2134 - val_acc: 0.9570\n",
            "Epoch 62/100\n",
            "100/100 [==============================] - 17s 174ms/step - loss: 0.0901 - acc: 0.9710 - val_loss: 0.2623 - val_acc: 0.9610\n",
            "Epoch 63/100\n",
            "100/100 [==============================] - 17s 175ms/step - loss: 0.0854 - acc: 0.9655 - val_loss: 0.0208 - val_acc: 0.9610\n",
            "Epoch 64/100\n",
            "100/100 [==============================] - 17s 173ms/step - loss: 0.0758 - acc: 0.9710 - val_loss: 0.1311 - val_acc: 0.9560\n",
            "Epoch 65/100\n",
            "100/100 [==============================] - 18s 177ms/step - loss: 0.1011 - acc: 0.9620 - val_loss: 0.1679 - val_acc: 0.9590\n",
            "Epoch 66/100\n",
            "100/100 [==============================] - 17s 173ms/step - loss: 0.0741 - acc: 0.9710 - val_loss: 0.0613 - val_acc: 0.9650\n",
            "Epoch 67/100\n",
            "100/100 [==============================] - 18s 175ms/step - loss: 0.0816 - acc: 0.9700 - val_loss: 0.0036 - val_acc: 0.9580\n",
            "Epoch 68/100\n",
            "100/100 [==============================] - 17s 173ms/step - loss: 0.0733 - acc: 0.9735 - val_loss: 0.3305 - val_acc: 0.9640\n",
            "Epoch 69/100\n",
            "100/100 [==============================] - 17s 174ms/step - loss: 0.0794 - acc: 0.9680 - val_loss: 2.1398e-04 - val_acc: 0.9530\n",
            "Epoch 70/100\n",
            "100/100 [==============================] - 17s 171ms/step - loss: 0.0647 - acc: 0.9735 - val_loss: 0.0264 - val_acc: 0.9640\n",
            "Epoch 71/100\n",
            "100/100 [==============================] - 17s 171ms/step - loss: 0.0831 - acc: 0.9715 - val_loss: 0.0200 - val_acc: 0.9650\n",
            "Epoch 72/100\n",
            "100/100 [==============================] - 17s 171ms/step - loss: 0.0892 - acc: 0.9660 - val_loss: 0.0090 - val_acc: 0.9640\n",
            "Epoch 73/100\n",
            "100/100 [==============================] - 17s 171ms/step - loss: 0.0643 - acc: 0.9740 - val_loss: 0.3769 - val_acc: 0.9650\n",
            "Epoch 74/100\n",
            "100/100 [==============================] - 17s 171ms/step - loss: 0.0960 - acc: 0.9625 - val_loss: 0.2528 - val_acc: 0.9670\n",
            "Epoch 75/100\n",
            "100/100 [==============================] - 17s 172ms/step - loss: 0.0833 - acc: 0.9655 - val_loss: 0.0443 - val_acc: 0.9640\n",
            "Epoch 76/100\n",
            "100/100 [==============================] - 17s 170ms/step - loss: 0.0832 - acc: 0.9735 - val_loss: 0.4253 - val_acc: 0.9670\n",
            "Epoch 77/100\n",
            "100/100 [==============================] - 17s 169ms/step - loss: 0.0743 - acc: 0.9685 - val_loss: 0.0581 - val_acc: 0.9660\n",
            "Epoch 78/100\n",
            "100/100 [==============================] - 17s 172ms/step - loss: 0.0759 - acc: 0.9750 - val_loss: 0.0509 - val_acc: 0.9640\n",
            "Epoch 79/100\n",
            "100/100 [==============================] - 17s 172ms/step - loss: 0.0813 - acc: 0.9710 - val_loss: 0.2610 - val_acc: 0.9620\n",
            "Epoch 80/100\n",
            "100/100 [==============================] - 17s 172ms/step - loss: 0.0650 - acc: 0.9740 - val_loss: 0.2987 - val_acc: 0.9620\n",
            "Epoch 81/100\n",
            "100/100 [==============================] - 17s 172ms/step - loss: 0.0749 - acc: 0.9720 - val_loss: 7.1888e-04 - val_acc: 0.9630\n",
            "Epoch 82/100\n",
            "100/100 [==============================] - 17s 173ms/step - loss: 0.0572 - acc: 0.9790 - val_loss: 0.0820 - val_acc: 0.9670\n",
            "Epoch 83/100\n",
            "100/100 [==============================] - 17s 175ms/step - loss: 0.0591 - acc: 0.9785 - val_loss: 0.2737 - val_acc: 0.9630\n",
            "Epoch 84/100\n",
            "100/100 [==============================] - 17s 172ms/step - loss: 0.0622 - acc: 0.9785 - val_loss: 0.1309 - val_acc: 0.9590\n",
            "Epoch 85/100\n",
            "100/100 [==============================] - 18s 175ms/step - loss: 0.0785 - acc: 0.9720 - val_loss: 0.4269 - val_acc: 0.9620\n",
            "Epoch 86/100\n",
            "100/100 [==============================] - 17s 175ms/step - loss: 0.0739 - acc: 0.9755 - val_loss: 0.0734 - val_acc: 0.9580\n",
            "Epoch 87/100\n",
            "100/100 [==============================] - 17s 175ms/step - loss: 0.0768 - acc: 0.9715 - val_loss: 5.8713e-04 - val_acc: 0.9650\n",
            "Epoch 88/100\n",
            "100/100 [==============================] - 17s 174ms/step - loss: 0.0549 - acc: 0.9835 - val_loss: 0.3108 - val_acc: 0.9630\n",
            "Epoch 89/100\n",
            "100/100 [==============================] - 17s 174ms/step - loss: 0.0791 - acc: 0.9685 - val_loss: 0.1806 - val_acc: 0.9620\n",
            "Epoch 90/100\n",
            "100/100 [==============================] - 18s 176ms/step - loss: 0.0627 - acc: 0.9770 - val_loss: 0.0318 - val_acc: 0.9590\n",
            "Epoch 91/100\n",
            "100/100 [==============================] - 18s 176ms/step - loss: 0.0664 - acc: 0.9745 - val_loss: 0.2327 - val_acc: 0.9650\n",
            "Epoch 92/100\n",
            "100/100 [==============================] - 17s 173ms/step - loss: 0.0566 - acc: 0.9830 - val_loss: 0.1520 - val_acc: 0.9630\n",
            "Epoch 93/100\n",
            "100/100 [==============================] - 17s 175ms/step - loss: 0.0657 - acc: 0.9745 - val_loss: 0.3497 - val_acc: 0.9590\n",
            "Epoch 94/100\n",
            "100/100 [==============================] - 17s 175ms/step - loss: 0.0641 - acc: 0.9755 - val_loss: 0.2284 - val_acc: 0.9630\n",
            "Epoch 95/100\n",
            "100/100 [==============================] - 17s 173ms/step - loss: 0.0791 - acc: 0.9700 - val_loss: 7.5463e-07 - val_acc: 0.9640\n",
            "Epoch 96/100\n",
            "100/100 [==============================] - 17s 174ms/step - loss: 0.0571 - acc: 0.9800 - val_loss: 0.1900 - val_acc: 0.9570\n",
            "Epoch 97/100\n",
            "100/100 [==============================] - 17s 175ms/step - loss: 0.0775 - acc: 0.9720 - val_loss: 0.0425 - val_acc: 0.9610\n",
            "Epoch 98/100\n",
            "100/100 [==============================] - 17s 173ms/step - loss: 0.0642 - acc: 0.9735 - val_loss: 0.0607 - val_acc: 0.9600\n",
            "Epoch 99/100\n",
            "100/100 [==============================] - 17s 172ms/step - loss: 0.0515 - acc: 0.9790 - val_loss: 0.0267 - val_acc: 0.9630\n",
            "Epoch 100/100\n",
            "100/100 [==============================] - 17s 173ms/step - loss: 0.0552 - acc: 0.9795 - val_loss: 0.2976 - val_acc: 0.9660\n"
          ],
          "name": "stdout"
        }
      ]
    },
    {
      "cell_type": "markdown",
      "metadata": {
        "id": "eVBQgh5M-Rtz",
        "colab_type": "text"
      },
      "source": [
        "## Display learning curves during fine-tuning"
      ]
    },
    {
      "cell_type": "code",
      "metadata": {
        "id": "mbkIw7Ie-NP4",
        "colab_type": "code",
        "outputId": "410691a7-336a-47c7-b039-f574d8156d26",
        "colab": {
          "base_uri": "https://localhost:8080/",
          "height": 545
        }
      },
      "source": [
        "%matplotlib inline\n",
        "\n",
        "import matplotlib.pyplot as plt\n",
        "\n",
        "acc = history.history['acc']\n",
        "val_acc = history.history['val_acc']\n",
        "\n",
        "loss = history.history['loss']\n",
        "val_loss = history.history['val_loss']\n",
        "\n",
        "epochs = range(1, len(acc) + 1)\n",
        "\n",
        "# training and validation accuracy\n",
        "\n",
        "plt.plot(epochs, acc, 'bo', label='training acc')\n",
        "plt.plot(epochs, val_acc, 'b', label='validation acc')\n",
        "plt.title('training and validation accuracy')\n",
        "plt.legend()\n",
        "\n",
        "plt.figure()\n",
        "\n",
        "# training and validation loss\n",
        "\n",
        "plt.plot(epochs, loss, 'bo', label='training loss')\n",
        "plt.plot(epochs, val_loss, 'b', label='validation loss')\n",
        "plt.title('training and validation loss')\n",
        "plt.legend()\n",
        "\n",
        "plt.show()"
      ],
      "execution_count": 12,
      "outputs": [
        {
          "output_type": "display_data",
          "data": {
            "image/png": "[encoded data removed]",
            "text/plain": [
              "<Figure size 432x288 with 1 Axes>"
            ]
          },
          "metadata": {
            "tags": [],
            "needs_background": "light"
          }
        },
        {
          "output_type": "display_data",
          "data": {
            "image/png": "[encoded data removed]",
            "text/plain": [
              "<Figure size 432x288 with 1 Axes>"
            ]
          },
          "metadata": {
            "tags": [],
            "needs_background": "light"
          }
        }
      ]
    },
    {
      "cell_type": "markdown",
      "metadata": {
        "id": "obQi6N4ZShdi",
        "colab_type": "text"
      },
      "source": [
        "This looks like overfitting. I should try  adding dropout for the densely connected layer."
      ]
    },
    {
      "cell_type": "markdown",
      "metadata": {
        "id": "he3Nw6TOJwjx",
        "colab_type": "text"
      },
      "source": [
        "## Print out validation loss and accuracy"
      ]
    },
    {
      "cell_type": "code",
      "metadata": {
        "id": "SVQtrk7uJdhl",
        "colab_type": "code",
        "colab": {}
      },
      "source": [
        "val_loss, val_acc = model.evaluate_generator(validation_generator, steps=50)"
      ],
      "execution_count": 0,
      "outputs": []
    },
    {
      "cell_type": "code",
      "metadata": {
        "id": "HpdddLi1SUMe",
        "colab_type": "code",
        "outputId": "bc5b6219-d7ef-4a51-dfc2-a4f65c406bdc",
        "colab": {
          "base_uri": "https://localhost:8080/",
          "height": 53
        }
      },
      "source": [
        "print(\"Validation loss:\", val_loss)\n",
        "print(\"Validation accuracy:\", val_acc)"
      ],
      "execution_count": 14,
      "outputs": [
        {
          "output_type": "stream",
          "text": [
            "Validation loss: 0.29760631918907166\n",
            "Validation accuracy: 0.9660000205039978\n"
          ],
          "name": "stdout"
        }
      ]
    },
    {
      "cell_type": "markdown",
      "metadata": {
        "id": "s_8eWIQPNQJl",
        "colab_type": "text"
      },
      "source": [
        "#Summary:\n",
        "\n",
        "The conv base was replaced with MobileNet. Performance is somewhat worse, especially in terms of validation loss."
      ]
    }
  ]
}