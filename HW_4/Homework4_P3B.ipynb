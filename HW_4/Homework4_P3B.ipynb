{
  "nbformat": 4,
  "nbformat_minor": 0,
  "metadata": {
    "colab": {
      "name": "Homework4_P3B.ipynb",
      "provenance": [],
      "include_colab_link": true
    },
    "kernelspec": {
      "name": "python3",
      "display_name": "Python 3"
    },
    "accelerator": "GPU"
  },
  "cells": [
    {
      "cell_type": "markdown",
      "metadata": {
        "id": "view-in-github",
        "colab_type": "text"
      },
      "source": [
        "<a href=\"https://colab.research.google.com/github/LargeMan/CAP4630/blob/master/HW_4/Homework4_P3B.ipynb\" target=\"_parent\"><img src=\"https://colab.research.google.com/assets/colab-badge.svg\" alt=\"Open In Colab\"/></a>"
      ]
    },
    {
      "cell_type": "markdown",
      "metadata": {
        "id": "KSrgMJ5vKFzQ",
        "colab_type": "text"
      },
      "source": [
        "# Fine-tuning VGG16 "
      ]
    },
    {
      "cell_type": "markdown",
      "metadata": {
        "id": "TIW7bZaAK-Hf",
        "colab_type": "text"
      },
      "source": [
        "This is based on section 5.3 *Using a pretrained convnet* of the book *Deep learning with Python* by Francois Chollet. I have made several changes to the code. I use the data that is already provided by Google. I don't download the data from Kaggle as in the deep learning book."
      ]
    },
    {
      "cell_type": "markdown",
      "metadata": {
        "id": "nsBq__dVo2pj",
        "colab_type": "text"
      },
      "source": [
        "## Feature extraction"
      ]
    },
    {
      "cell_type": "markdown",
      "metadata": {
        "id": "0g6ETAM9o54M",
        "colab_type": "text"
      },
      "source": [
        "Feature extraction consists of using the representations learned by a previous network to extract interesting features from new samples. These features are then run through a new classifier, which is trained from scratch.\n",
        "\n",
        "We will use here the convolutional base of the VGG16 model to extract the features. We will feed these features to a densely connected classifier with dropout. We will fine-tune some layers."
      ]
    },
    {
      "cell_type": "markdown",
      "metadata": {
        "id": "BqIG8QHMLNOn",
        "colab_type": "text"
      },
      "source": [
        "## Download the data"
      ]
    },
    {
      "cell_type": "markdown",
      "metadata": {
        "id": "t3I1jd7cKV6_",
        "colab_type": "text"
      },
      "source": [
        "Download the example data, a zip. of 2,000 JPG pictures of cats and dogs and extract it locally in ```/tmp```.\n",
        "\n"
      ]
    },
    {
      "cell_type": "code",
      "metadata": {
        "id": "JWjprHEXJ5Qi",
        "colab_type": "code",
        "outputId": "5c001fbb-125a-4adc-afc8-e626250eb17f",
        "colab": {
          "base_uri": "https://localhost:8080/",
          "height": 217
        }
      },
      "source": [
        "!wget --no-check-certificate \\\n",
        "    https://storage.googleapis.com/mledu-datasets/cats_and_dogs_filtered.zip \\\n",
        "    -O /tmp/cats_and_dogs_filtered.zip"
      ],
      "execution_count": 1,
      "outputs": [
        {
          "output_type": "stream",
          "text": [
            "--2020-04-21 23:21:19--  https://storage.googleapis.com/mledu-datasets/cats_and_dogs_filtered.zip\n",
            "Resolving storage.googleapis.com (storage.googleapis.com)... 74.125.200.128, 2404:6800:4003:c04::80\n",
            "Connecting to storage.googleapis.com (storage.googleapis.com)|74.125.200.128|:443... connected.\n",
            "HTTP request sent, awaiting response... 200 OK\n",
            "Length: 68606236 (65M) [application/zip]\n",
            "Saving to: ‘/tmp/cats_and_dogs_filtered.zip’\n",
            "\n",
            "/tmp/cats_and_dogs_ 100%[===================>]  65.43M  70.4MB/s    in 0.9s    \n",
            "\n",
            "2020-04-21 23:21:21 (70.4 MB/s) - ‘/tmp/cats_and_dogs_filtered.zip’ saved [68606236/68606236]\n",
            "\n"
          ],
          "name": "stdout"
        }
      ]
    },
    {
      "cell_type": "code",
      "metadata": {
        "id": "WvoHtdA-K6Rw",
        "colab_type": "code",
        "colab": {}
      },
      "source": [
        "import os\n",
        "import zipfile\n",
        "\n",
        "local_zip = '/tmp/cats_and_dogs_filtered.zip'\n",
        "zip_ref = zipfile.ZipFile(local_zip, 'r')\n",
        "zip_ref.extractall('/tmp')\n",
        "zip_ref.close()"
      ],
      "execution_count": 0,
      "outputs": []
    },
    {
      "cell_type": "markdown",
      "metadata": {
        "id": "shZiOBnJMyy_",
        "colab_type": "text"
      },
      "source": [
        "Note that the data provided by Google does not have a test set."
      ]
    },
    {
      "cell_type": "code",
      "metadata": {
        "id": "dL8ikM89LlsH",
        "colab_type": "code",
        "colab": {}
      },
      "source": [
        "base_dir = '/tmp/cats_and_dogs_filtered'\n",
        "train_dir = os.path.join(base_dir, 'train')\n",
        "validation_dir = os.path.join(base_dir, 'validation')\n",
        "\n",
        "# Directory with our training cat pictures\n",
        "train_cats_dir = os.path.join(train_dir, 'cats')\n",
        "\n",
        "# Directory with our training dog pictures\n",
        "train_dogs_dir = os.path.join(train_dir, 'dogs')\n",
        "\n",
        "# Directory with our validation cat pictures\n",
        "validation_cats_dir = os.path.join(validation_dir, 'cats')\n",
        "\n",
        "# Directory with our validation dog pictures\n",
        "validation_dogs_dir = os.path.join(validation_dir, 'dogs')"
      ],
      "execution_count": 0,
      "outputs": []
    },
    {
      "cell_type": "markdown",
      "metadata": {
        "id": "inyP8bcdXnn-",
        "colab_type": "text"
      },
      "source": [
        "## Build network with VGG16 convolution base and custom densely connected layers"
      ]
    },
    {
      "cell_type": "markdown",
      "metadata": {
        "id": "kQ48W5T9rHWu",
        "colab_type": "text"
      },
      "source": [
        "### Load the convolutional base"
      ]
    },
    {
      "cell_type": "code",
      "metadata": {
        "id": "Y0FgtANCXm_H",
        "colab_type": "code",
        "outputId": "39a7c00e-ae1b-45d1-f18d-d1ddf3b354c4",
        "colab": {
          "base_uri": "https://localhost:8080/",
          "height": 108
        }
      },
      "source": [
        "from keras.applications import MobileNet as MNet\n",
        "\n",
        "conv_base = MNet(\n",
        "    weights='imagenet', \n",
        "    include_top=False, \n",
        "    input_shape=(150, 150, 3))\n",
        "#conv_base.summary()"
      ],
      "execution_count": 4,
      "outputs": [
        {
          "output_type": "stream",
          "text": [
            "Using TensorFlow backend.\n",
            "/usr/local/lib/python3.6/dist-packages/keras_applications/mobilenet.py:207: UserWarning: `input_shape` is undefined or non-square, or `rows` is not in [128, 160, 192, 224]. Weights for input shape (224, 224) will be loaded as the default.\n",
            "  warnings.warn('`input_shape` is undefined or non-square, '\n"
          ],
          "name": "stderr"
        },
        {
          "output_type": "stream",
          "text": [
            "Downloading data from https://github.com/fchollet/deep-learning-models/releases/download/v0.6/mobilenet_1_0_224_tf_no_top.h5\n",
            "17227776/17225924 [==============================] - 3s 0us/step\n"
          ],
          "name": "stdout"
        }
      ]
    },
    {
      "cell_type": "markdown",
      "metadata": {
        "id": "D6OBHOO9q1ou",
        "colab_type": "text"
      },
      "source": [
        "### Freeze the convolutional base"
      ]
    },
    {
      "cell_type": "code",
      "metadata": {
        "id": "UleRo4Dpq6Ld",
        "colab_type": "code",
        "colab": {}
      },
      "source": [
        "conv_base.trainable = False"
      ],
      "execution_count": 0,
      "outputs": []
    },
    {
      "cell_type": "markdown",
      "metadata": {
        "id": "Qfx6PqhPrb7Q",
        "colab_type": "text"
      },
      "source": [
        "### Concatenate the convolutional base and densely connected layers"
      ]
    },
    {
      "cell_type": "code",
      "metadata": {
        "id": "qUpmocDAO3xm",
        "colab_type": "code",
        "colab": {}
      },
      "source": [
        "from keras import layers\n",
        "from keras import models\n",
        "from keras import optimizers\n",
        "\n",
        "model = models.Sequential()\n",
        "model.add(conv_base)\n",
        "model.add(layers.Flatten())\n",
        "model.add(layers.Dense(512, activation='relu'))\n",
        "model.add(layers.Dropout(0.1))\n",
        "model.add(layers.Dense(64, activation='relu'))\n",
        "model.add(layers.Dropout(0.1))\n",
        "model.add(layers.Dense(1, activation='sigmoid'))"
      ],
      "execution_count": 0,
      "outputs": []
    },
    {
      "cell_type": "code",
      "metadata": {
        "id": "Fh6gZSeAjF7c",
        "colab_type": "code",
        "outputId": "83a345e3-cd75-4667-ea19-d091859b4924",
        "colab": {
          "base_uri": "https://localhost:8080/",
          "height": 417
        }
      },
      "source": [
        "model.summary()"
      ],
      "execution_count": 7,
      "outputs": [
        {
          "output_type": "stream",
          "text": [
            "Model: \"sequential_1\"\n",
            "_________________________________________________________________\n",
            "Layer (type)                 Output Shape              Param #   \n",
            "=================================================================\n",
            "mobilenet_1.00_224 (Model)   (None, 4, 4, 1024)        3228864   \n",
            "_________________________________________________________________\n",
            "flatten_1 (Flatten)          (None, 16384)             0         \n",
            "_________________________________________________________________\n",
            "dense_1 (Dense)              (None, 512)               8389120   \n",
            "_________________________________________________________________\n",
            "dropout_1 (Dropout)          (None, 512)               0         \n",
            "_________________________________________________________________\n",
            "dense_2 (Dense)              (None, 64)                32832     \n",
            "_________________________________________________________________\n",
            "dropout_2 (Dropout)          (None, 64)                0         \n",
            "_________________________________________________________________\n",
            "dense_3 (Dense)              (None, 1)                 65        \n",
            "=================================================================\n",
            "Total params: 11,650,881\n",
            "Trainable params: 8,422,017\n",
            "Non-trainable params: 3,228,864\n",
            "_________________________________________________________________\n"
          ],
          "name": "stdout"
        }
      ]
    },
    {
      "cell_type": "markdown",
      "metadata": {
        "id": "eZjBiddhi5Qj",
        "colab_type": "text"
      },
      "source": [
        "## Train the model end to end with frozen convolutional base"
      ]
    },
    {
      "cell_type": "code",
      "metadata": {
        "id": "tfAQlC2Oi41L",
        "colab_type": "code",
        "outputId": "ef079307-40c8-48de-dfb0-e2ce5a44facd",
        "colab": {
          "base_uri": "https://localhost:8080/",
          "height": 1000
        }
      },
      "source": [
        "from keras.preprocessing.image import ImageDataGenerator\n",
        "from keras import optimizers\n",
        "\n",
        "# data augmentation\n",
        "\n",
        "train_datagen = ImageDataGenerator(\n",
        "    rescale=1./255, \n",
        "    rotation_range=40,\n",
        "    width_shift_range=0.2,\n",
        "    height_shift_range=0.2,\n",
        "    shear_range=0.2,\n",
        "    zoom_range=0.2,\n",
        "    horizontal_flip=True,\n",
        "    fill_mode='nearest'\n",
        ")\n",
        "\n",
        "train_generator = train_datagen.flow_from_directory(\n",
        "    train_dir,\n",
        "    target_size=(150, 150),\n",
        "    batch_size=20,\n",
        "    class_mode='binary')\n",
        "\n",
        "validation_datagen = ImageDataGenerator(rescale=1./255)\n",
        "\n",
        "validation_generator = validation_datagen.flow_from_directory(\n",
        "    validation_dir,\n",
        "    target_size=(150, 150),\n",
        "    batch_size=20,\n",
        "    class_mode='binary')\n",
        "\n",
        "# compile model\n",
        "\n",
        "model.compile(\n",
        "    loss='binary_crossentropy', \n",
        "    optimizer=optimizers.RMSprop(lr=2e-5), \n",
        "    metrics=['acc'])\n",
        "\n",
        "# train\n",
        "\n",
        "history = model.fit_generator(\n",
        "    train_generator,\n",
        "    steps_per_epoch=100,\n",
        "    epochs=30,\n",
        "    validation_data=validation_generator,\n",
        "    validation_steps=50\n",
        ")"
      ],
      "execution_count": 8,
      "outputs": [
        {
          "output_type": "stream",
          "text": [
            "Found 2000 images belonging to 2 classes.\n",
            "Found 1000 images belonging to 2 classes.\n",
            "Epoch 1/30\n",
            "100/100 [==============================] - 25s 253ms/step - loss: 0.4610 - acc: 0.7760 - val_loss: 0.0359 - val_acc: 0.9350\n",
            "Epoch 2/30\n",
            "100/100 [==============================] - 16s 164ms/step - loss: 0.2938 - acc: 0.8730 - val_loss: 0.2516 - val_acc: 0.9610\n",
            "Epoch 3/30\n",
            "100/100 [==============================] - 16s 164ms/step - loss: 0.2913 - acc: 0.8770 - val_loss: 0.0470 - val_acc: 0.9660\n",
            "Epoch 4/30\n",
            "100/100 [==============================] - 17s 165ms/step - loss: 0.2669 - acc: 0.8835 - val_loss: 0.3398 - val_acc: 0.9670\n",
            "Epoch 5/30\n",
            "100/100 [==============================] - 16s 164ms/step - loss: 0.2668 - acc: 0.8905 - val_loss: 0.0015 - val_acc: 0.9700\n",
            "Epoch 6/30\n",
            "100/100 [==============================] - 16s 163ms/step - loss: 0.2242 - acc: 0.9080 - val_loss: 0.0727 - val_acc: 0.9660\n",
            "Epoch 7/30\n",
            "100/100 [==============================] - 16s 164ms/step - loss: 0.2131 - acc: 0.9155 - val_loss: 0.3746 - val_acc: 0.9660\n",
            "Epoch 8/30\n",
            "100/100 [==============================] - 16s 163ms/step - loss: 0.2194 - acc: 0.9175 - val_loss: 0.1816 - val_acc: 0.9680\n",
            "Epoch 9/30\n",
            "100/100 [==============================] - 16s 164ms/step - loss: 0.2245 - acc: 0.9085 - val_loss: 0.3241 - val_acc: 0.9680\n",
            "Epoch 10/30\n",
            "100/100 [==============================] - 16s 163ms/step - loss: 0.2161 - acc: 0.9065 - val_loss: 0.0011 - val_acc: 0.9580\n",
            "Epoch 11/30\n",
            "100/100 [==============================] - 16s 164ms/step - loss: 0.1810 - acc: 0.9255 - val_loss: 0.0068 - val_acc: 0.9660\n",
            "Epoch 12/30\n",
            "100/100 [==============================] - 16s 163ms/step - loss: 0.2190 - acc: 0.9170 - val_loss: 0.0605 - val_acc: 0.9660\n",
            "Epoch 13/30\n",
            "100/100 [==============================] - 16s 164ms/step - loss: 0.1935 - acc: 0.9185 - val_loss: 0.0163 - val_acc: 0.9720\n",
            "Epoch 14/30\n",
            "100/100 [==============================] - 17s 167ms/step - loss: 0.1850 - acc: 0.9240 - val_loss: 0.3040 - val_acc: 0.9700\n",
            "Epoch 15/30\n",
            "100/100 [==============================] - 16s 163ms/step - loss: 0.1786 - acc: 0.9285 - val_loss: 4.2232e-06 - val_acc: 0.9680\n",
            "Epoch 16/30\n",
            "100/100 [==============================] - 16s 164ms/step - loss: 0.2013 - acc: 0.9240 - val_loss: 0.0546 - val_acc: 0.9690\n",
            "Epoch 17/30\n",
            "100/100 [==============================] - 16s 163ms/step - loss: 0.2059 - acc: 0.9255 - val_loss: 0.0093 - val_acc: 0.9690\n",
            "Epoch 18/30\n",
            "100/100 [==============================] - 16s 165ms/step - loss: 0.1888 - acc: 0.9295 - val_loss: 1.5197e-06 - val_acc: 0.9700\n",
            "Epoch 19/30\n",
            "100/100 [==============================] - 16s 165ms/step - loss: 0.1827 - acc: 0.9260 - val_loss: 6.0161e-04 - val_acc: 0.9710\n",
            "Epoch 20/30\n",
            "100/100 [==============================] - 17s 166ms/step - loss: 0.1791 - acc: 0.9275 - val_loss: 0.3234 - val_acc: 0.9710\n",
            "Epoch 21/30\n",
            "100/100 [==============================] - 16s 164ms/step - loss: 0.1671 - acc: 0.9280 - val_loss: 0.1655 - val_acc: 0.9710\n",
            "Epoch 22/30\n",
            "100/100 [==============================] - 16s 163ms/step - loss: 0.1819 - acc: 0.9290 - val_loss: 0.1147 - val_acc: 0.9750\n",
            "Epoch 23/30\n",
            "100/100 [==============================] - 16s 163ms/step - loss: 0.1717 - acc: 0.9330 - val_loss: 0.2853 - val_acc: 0.9730\n",
            "Epoch 24/30\n",
            "100/100 [==============================] - 16s 164ms/step - loss: 0.1514 - acc: 0.9390 - val_loss: 0.0077 - val_acc: 0.9730\n",
            "Epoch 25/30\n",
            "100/100 [==============================] - 16s 165ms/step - loss: 0.1824 - acc: 0.9295 - val_loss: 0.0021 - val_acc: 0.9680\n",
            "Epoch 26/30\n",
            "100/100 [==============================] - 16s 162ms/step - loss: 0.1755 - acc: 0.9345 - val_loss: 6.6547e-05 - val_acc: 0.9730\n",
            "Epoch 27/30\n",
            "100/100 [==============================] - 16s 163ms/step - loss: 0.1891 - acc: 0.9275 - val_loss: 0.0013 - val_acc: 0.9730\n",
            "Epoch 28/30\n",
            "100/100 [==============================] - 16s 163ms/step - loss: 0.1776 - acc: 0.9315 - val_loss: 0.9313 - val_acc: 0.9720\n",
            "Epoch 29/30\n",
            "100/100 [==============================] - 16s 163ms/step - loss: 0.1733 - acc: 0.9355 - val_loss: 0.2161 - val_acc: 0.9710\n",
            "Epoch 30/30\n",
            "100/100 [==============================] - 16s 162ms/step - loss: 0.1517 - acc: 0.9450 - val_loss: 0.1945 - val_acc: 0.9680\n"
          ],
          "name": "stdout"
        }
      ]
    },
    {
      "cell_type": "markdown",
      "metadata": {
        "id": "xqRc_vHKc92U",
        "colab_type": "text"
      },
      "source": [
        "## Display curves of loss and accuracy during training"
      ]
    },
    {
      "cell_type": "code",
      "metadata": {
        "id": "ybWwdzz9bwuQ",
        "colab_type": "code",
        "outputId": "92f0b680-8bbb-43ea-b4d7-84a1b338b6fb",
        "colab": {
          "base_uri": "https://localhost:8080/",
          "height": 545
        }
      },
      "source": [
        "%matplotlib inline\n",
        "\n",
        "import matplotlib.pyplot as plt\n",
        "\n",
        "acc = history.history['acc']\n",
        "val_acc = history.history['val_acc']\n",
        "\n",
        "loss = history.history['loss']\n",
        "val_loss = history.history['val_loss']\n",
        "\n",
        "epochs = range(1, len(acc) + 1)\n",
        "\n",
        "# training and validation accuracy\n",
        "\n",
        "plt.plot(epochs, acc, 'bo', label='training acc')\n",
        "plt.plot(epochs, val_acc, 'b', label='validation acc')\n",
        "plt.title('training and validation accuracy')\n",
        "plt.legend()\n",
        "\n",
        "plt.figure()\n",
        "\n",
        "# training and validation loss\n",
        "\n",
        "plt.plot(epochs, loss, 'bo', label='training loss')\n",
        "plt.plot(epochs, val_loss, 'b', label='validation loss')\n",
        "plt.title('training and validation loss')\n",
        "plt.legend()\n",
        "\n",
        "plt.show()"
      ],
      "execution_count": 9,
      "outputs": [
        {
          "output_type": "display_data",
          "data": {
            "image/png": "[encoded data removed]",
            "text/plain": [
              "<Figure size 432x288 with 1 Axes>"
            ]
          },
          "metadata": {
            "tags": [],
            "needs_background": "light"
          }
        },
        {
          "output_type": "display_data",
          "data": {
            "image/png": "[encoded data removed]",
            "text/plain": [
              "<Figure size 432x288 with 1 Axes>"
            ]
          },
          "metadata": {
            "tags": [],
            "needs_background": "light"
          }
        }
      ]
    },
    {
      "cell_type": "markdown",
      "metadata": {
        "id": "lOWsxpey8lN0",
        "colab_type": "text"
      },
      "source": [
        "## Fine-tuning"
      ]
    },
    {
      "cell_type": "code",
      "metadata": {
        "id": "PwkVMx8N8qMw",
        "colab_type": "code",
        "colab": {}
      },
      "source": [
        "conv_base.trainable = True\n",
        "\n",
        "set_trainable = False\n",
        "for layer in conv_base.layers:\n",
        "  if layer.name == 'block5_conv1':\n",
        "    set_trainable = True\n",
        "  if set_trainable:\n",
        "    layer.trainable = True\n",
        "  else:\n",
        "    layer.trainable = False"
      ],
      "execution_count": 0,
      "outputs": []
    },
    {
      "cell_type": "code",
      "metadata": {
        "id": "DyN-J7rs9cvo",
        "colab_type": "code",
        "outputId": "c8bf70a6-ed31-4359-e172-c5796f30ba73",
        "colab": {
          "base_uri": "https://localhost:8080/",
          "height": 1000
        }
      },
      "source": [
        "# compile model\n",
        "\n",
        "model.compile(\n",
        "    loss='binary_crossentropy',\n",
        "    #\n",
        "    # choose a smaller learning rate\n",
        "    #\n",
        "    optimizer=optimizers.RMSprop(lr=1e-5), \n",
        "    metrics=['acc'])\n",
        "\n",
        "# train\n",
        "\n",
        "history = model.fit_generator(\n",
        "    train_generator,\n",
        "    steps_per_epoch=100,\n",
        "    epochs=100,\n",
        "    validation_data=validation_generator,\n",
        "    validation_steps=50)"
      ],
      "execution_count": 11,
      "outputs": [
        {
          "output_type": "stream",
          "text": [
            "Epoch 1/100\n",
            "100/100 [==============================] - 19s 190ms/step - loss: 0.1588 - acc: 0.9385 - val_loss: 0.0046 - val_acc: 0.9600\n",
            "Epoch 2/100\n",
            "100/100 [==============================] - 16s 165ms/step - loss: 0.1999 - acc: 0.9270 - val_loss: 0.2932 - val_acc: 0.9670\n",
            "Epoch 3/100\n",
            "100/100 [==============================] - 17s 166ms/step - loss: 0.1587 - acc: 0.9395 - val_loss: 0.0615 - val_acc: 0.9640\n",
            "Epoch 4/100\n",
            "100/100 [==============================] - 16s 164ms/step - loss: 0.1682 - acc: 0.9390 - val_loss: 0.0027 - val_acc: 0.9620\n",
            "Epoch 5/100\n",
            "100/100 [==============================] - 16s 164ms/step - loss: 0.1460 - acc: 0.9385 - val_loss: 0.0041 - val_acc: 0.9680\n",
            "Epoch 6/100\n",
            "100/100 [==============================] - 16s 164ms/step - loss: 0.1514 - acc: 0.9385 - val_loss: 0.0023 - val_acc: 0.9600\n",
            "Epoch 7/100\n",
            "100/100 [==============================] - 16s 163ms/step - loss: 0.1417 - acc: 0.9430 - val_loss: 0.0100 - val_acc: 0.9630\n",
            "Epoch 8/100\n",
            "100/100 [==============================] - 17s 167ms/step - loss: 0.1696 - acc: 0.9385 - val_loss: 0.2703 - val_acc: 0.9560\n",
            "Epoch 9/100\n",
            "100/100 [==============================] - 17s 166ms/step - loss: 0.1389 - acc: 0.9485 - val_loss: 0.0562 - val_acc: 0.9630\n",
            "Epoch 10/100\n",
            "100/100 [==============================] - 16s 163ms/step - loss: 0.1434 - acc: 0.9475 - val_loss: 0.0218 - val_acc: 0.9570\n",
            "Epoch 11/100\n",
            "100/100 [==============================] - 16s 164ms/step - loss: 0.1482 - acc: 0.9445 - val_loss: 0.0822 - val_acc: 0.9580\n",
            "Epoch 12/100\n",
            "100/100 [==============================] - 16s 164ms/step - loss: 0.1444 - acc: 0.9445 - val_loss: 0.0027 - val_acc: 0.9590\n",
            "Epoch 13/100\n",
            "100/100 [==============================] - 17s 166ms/step - loss: 0.1500 - acc: 0.9390 - val_loss: 0.0025 - val_acc: 0.9520\n",
            "Epoch 14/100\n",
            "100/100 [==============================] - 16s 163ms/step - loss: 0.1210 - acc: 0.9505 - val_loss: 0.0062 - val_acc: 0.9600\n",
            "Epoch 15/100\n",
            "100/100 [==============================] - 16s 164ms/step - loss: 0.1687 - acc: 0.9385 - val_loss: 0.0201 - val_acc: 0.9640\n",
            "Epoch 16/100\n",
            "100/100 [==============================] - 16s 164ms/step - loss: 0.1442 - acc: 0.9450 - val_loss: 0.4877 - val_acc: 0.9630\n",
            "Epoch 17/100\n",
            "100/100 [==============================] - 16s 165ms/step - loss: 0.1484 - acc: 0.9400 - val_loss: 0.0343 - val_acc: 0.9540\n",
            "Epoch 18/100\n",
            "100/100 [==============================] - 16s 164ms/step - loss: 0.1521 - acc: 0.9430 - val_loss: 0.0176 - val_acc: 0.9550\n",
            "Epoch 19/100\n",
            "100/100 [==============================] - 16s 164ms/step - loss: 0.1157 - acc: 0.9585 - val_loss: 0.0540 - val_acc: 0.9610\n",
            "Epoch 20/100\n",
            "100/100 [==============================] - 16s 164ms/step - loss: 0.1338 - acc: 0.9525 - val_loss: 0.0093 - val_acc: 0.9550\n",
            "Epoch 21/100\n",
            "100/100 [==============================] - 17s 165ms/step - loss: 0.1341 - acc: 0.9470 - val_loss: 0.0728 - val_acc: 0.9580\n",
            "Epoch 22/100\n",
            "100/100 [==============================] - 16s 164ms/step - loss: 0.1262 - acc: 0.9540 - val_loss: 0.0075 - val_acc: 0.9610\n",
            "Epoch 23/100\n",
            "100/100 [==============================] - 17s 166ms/step - loss: 0.1417 - acc: 0.9410 - val_loss: 0.0039 - val_acc: 0.9610\n",
            "Epoch 24/100\n",
            "100/100 [==============================] - 16s 164ms/step - loss: 0.1404 - acc: 0.9480 - val_loss: 0.0039 - val_acc: 0.9610\n",
            "Epoch 25/100\n",
            "100/100 [==============================] - 16s 163ms/step - loss: 0.1340 - acc: 0.9515 - val_loss: 0.0163 - val_acc: 0.9620\n",
            "Epoch 26/100\n",
            "100/100 [==============================] - 16s 164ms/step - loss: 0.1429 - acc: 0.9490 - val_loss: 0.0178 - val_acc: 0.9620\n",
            "Epoch 27/100\n",
            "100/100 [==============================] - 17s 166ms/step - loss: 0.1423 - acc: 0.9450 - val_loss: 0.4215 - val_acc: 0.9540\n",
            "Epoch 28/100\n",
            "100/100 [==============================] - 17s 166ms/step - loss: 0.1485 - acc: 0.9450 - val_loss: 0.2650 - val_acc: 0.9590\n",
            "Epoch 29/100\n",
            "100/100 [==============================] - 16s 163ms/step - loss: 0.1274 - acc: 0.9475 - val_loss: 0.1519 - val_acc: 0.9580\n",
            "Epoch 30/100\n",
            "100/100 [==============================] - 16s 164ms/step - loss: 0.1375 - acc: 0.9465 - val_loss: 0.0786 - val_acc: 0.9600\n",
            "Epoch 31/100\n",
            "100/100 [==============================] - 16s 165ms/step - loss: 0.1284 - acc: 0.9520 - val_loss: 0.1352 - val_acc: 0.9500\n",
            "Epoch 32/100\n",
            "100/100 [==============================] - 16s 165ms/step - loss: 0.1346 - acc: 0.9525 - val_loss: 2.6049e-04 - val_acc: 0.9600\n",
            "Epoch 33/100\n",
            "100/100 [==============================] - 17s 165ms/step - loss: 0.1470 - acc: 0.9395 - val_loss: 0.1192 - val_acc: 0.9580\n",
            "Epoch 34/100\n",
            "100/100 [==============================] - 16s 164ms/step - loss: 0.1174 - acc: 0.9575 - val_loss: 0.0646 - val_acc: 0.9580\n",
            "Epoch 35/100\n",
            "100/100 [==============================] - 17s 165ms/step - loss: 0.1585 - acc: 0.9495 - val_loss: 0.1099 - val_acc: 0.9570\n",
            "Epoch 36/100\n",
            "100/100 [==============================] - 16s 164ms/step - loss: 0.1465 - acc: 0.9420 - val_loss: 0.0666 - val_acc: 0.9590\n",
            "Epoch 37/100\n",
            "100/100 [==============================] - 17s 167ms/step - loss: 0.1248 - acc: 0.9520 - val_loss: 0.0432 - val_acc: 0.9560\n",
            "Epoch 38/100\n",
            "100/100 [==============================] - 17s 166ms/step - loss: 0.1270 - acc: 0.9480 - val_loss: 0.1010 - val_acc: 0.9580\n",
            "Epoch 39/100\n",
            "100/100 [==============================] - 17s 165ms/step - loss: 0.1234 - acc: 0.9560 - val_loss: 0.1659 - val_acc: 0.9580\n",
            "Epoch 40/100\n",
            "100/100 [==============================] - 17s 167ms/step - loss: 0.1277 - acc: 0.9550 - val_loss: 0.0682 - val_acc: 0.9570\n",
            "Epoch 41/100\n",
            "100/100 [==============================] - 17s 165ms/step - loss: 0.1419 - acc: 0.9505 - val_loss: 6.7167e-05 - val_acc: 0.9570\n",
            "Epoch 42/100\n",
            "100/100 [==============================] - 17s 167ms/step - loss: 0.1199 - acc: 0.9515 - val_loss: 6.7352e-05 - val_acc: 0.9610\n",
            "Epoch 43/100\n",
            "100/100 [==============================] - 17s 165ms/step - loss: 0.1327 - acc: 0.9480 - val_loss: 0.0646 - val_acc: 0.9660\n",
            "Epoch 44/100\n",
            "100/100 [==============================] - 17s 166ms/step - loss: 0.1054 - acc: 0.9575 - val_loss: 0.2382 - val_acc: 0.9600\n",
            "Epoch 45/100\n",
            "100/100 [==============================] - 16s 165ms/step - loss: 0.1116 - acc: 0.9580 - val_loss: 0.0212 - val_acc: 0.9610\n",
            "Epoch 46/100\n",
            "100/100 [==============================] - 17s 170ms/step - loss: 0.1260 - acc: 0.9495 - val_loss: 0.0628 - val_acc: 0.9590\n",
            "Epoch 47/100\n",
            "100/100 [==============================] - 17s 167ms/step - loss: 0.1259 - acc: 0.9530 - val_loss: 0.0590 - val_acc: 0.9620\n",
            "Epoch 48/100\n",
            "100/100 [==============================] - 17s 166ms/step - loss: 0.1025 - acc: 0.9590 - val_loss: 3.2299e-04 - val_acc: 0.9630\n",
            "Epoch 49/100\n",
            "100/100 [==============================] - 17s 166ms/step - loss: 0.1231 - acc: 0.9550 - val_loss: 0.0870 - val_acc: 0.9620\n",
            "Epoch 50/100\n",
            "100/100 [==============================] - 17s 166ms/step - loss: 0.1170 - acc: 0.9575 - val_loss: 0.2728 - val_acc: 0.9620\n",
            "Epoch 51/100\n",
            "100/100 [==============================] - 17s 166ms/step - loss: 0.1268 - acc: 0.9480 - val_loss: 0.0396 - val_acc: 0.9580\n",
            "Epoch 52/100\n",
            "100/100 [==============================] - 17s 167ms/step - loss: 0.1265 - acc: 0.9550 - val_loss: 0.3057 - val_acc: 0.9570\n",
            "Epoch 53/100\n",
            "100/100 [==============================] - 17s 167ms/step - loss: 0.1049 - acc: 0.9580 - val_loss: 0.1038 - val_acc: 0.9570\n",
            "Epoch 54/100\n",
            "100/100 [==============================] - 17s 165ms/step - loss: 0.1325 - acc: 0.9505 - val_loss: 0.2423 - val_acc: 0.9580\n",
            "Epoch 55/100\n",
            "100/100 [==============================] - 16s 165ms/step - loss: 0.1090 - acc: 0.9580 - val_loss: 0.0149 - val_acc: 0.9570\n",
            "Epoch 56/100\n",
            "100/100 [==============================] - 17s 165ms/step - loss: 0.1094 - acc: 0.9625 - val_loss: 0.0174 - val_acc: 0.9600\n",
            "Epoch 57/100\n",
            "100/100 [==============================] - 17s 168ms/step - loss: 0.1125 - acc: 0.9600 - val_loss: 0.1686 - val_acc: 0.9600\n",
            "Epoch 58/100\n",
            "100/100 [==============================] - 17s 166ms/step - loss: 0.1376 - acc: 0.9525 - val_loss: 0.5611 - val_acc: 0.9600\n",
            "Epoch 59/100\n",
            "100/100 [==============================] - 17s 165ms/step - loss: 0.1504 - acc: 0.9535 - val_loss: 0.0105 - val_acc: 0.9590\n",
            "Epoch 60/100\n",
            "100/100 [==============================] - 17s 166ms/step - loss: 0.1065 - acc: 0.9585 - val_loss: 0.0430 - val_acc: 0.9570\n",
            "Epoch 61/100\n",
            "100/100 [==============================] - 17s 166ms/step - loss: 0.1145 - acc: 0.9590 - val_loss: 0.0940 - val_acc: 0.9580\n",
            "Epoch 62/100\n",
            "100/100 [==============================] - 17s 166ms/step - loss: 0.1146 - acc: 0.9575 - val_loss: 0.0395 - val_acc: 0.9580\n",
            "Epoch 63/100\n",
            "100/100 [==============================] - 16s 165ms/step - loss: 0.1152 - acc: 0.9535 - val_loss: 0.0043 - val_acc: 0.9580\n",
            "Epoch 64/100\n",
            "100/100 [==============================] - 16s 165ms/step - loss: 0.1390 - acc: 0.9460 - val_loss: 0.0588 - val_acc: 0.9630\n",
            "Epoch 65/100\n",
            "100/100 [==============================] - 17s 167ms/step - loss: 0.1061 - acc: 0.9600 - val_loss: 0.0962 - val_acc: 0.9540\n",
            "Epoch 66/100\n",
            "100/100 [==============================] - 17s 166ms/step - loss: 0.1279 - acc: 0.9585 - val_loss: 0.4720 - val_acc: 0.9600\n",
            "Epoch 67/100\n",
            "100/100 [==============================] - 16s 165ms/step - loss: 0.1092 - acc: 0.9605 - val_loss: 0.0109 - val_acc: 0.9620\n",
            "Epoch 68/100\n",
            "100/100 [==============================] - 16s 165ms/step - loss: 0.1206 - acc: 0.9530 - val_loss: 0.0308 - val_acc: 0.9580\n",
            "Epoch 69/100\n",
            "100/100 [==============================] - 16s 163ms/step - loss: 0.1151 - acc: 0.9575 - val_loss: 0.3077 - val_acc: 0.9580\n",
            "Epoch 70/100\n",
            "100/100 [==============================] - 16s 164ms/step - loss: 0.1157 - acc: 0.9545 - val_loss: 0.0383 - val_acc: 0.9550\n",
            "Epoch 71/100\n",
            "100/100 [==============================] - 17s 166ms/step - loss: 0.1161 - acc: 0.9560 - val_loss: 0.0113 - val_acc: 0.9570\n",
            "Epoch 72/100\n",
            "100/100 [==============================] - 16s 165ms/step - loss: 0.1102 - acc: 0.9565 - val_loss: 0.1381 - val_acc: 0.9560\n",
            "Epoch 73/100\n",
            "100/100 [==============================] - 16s 164ms/step - loss: 0.1118 - acc: 0.9590 - val_loss: 0.2187 - val_acc: 0.9570\n",
            "Epoch 74/100\n",
            "100/100 [==============================] - 16s 163ms/step - loss: 0.1073 - acc: 0.9630 - val_loss: 0.1202 - val_acc: 0.9600\n",
            "Epoch 75/100\n",
            "100/100 [==============================] - 16s 164ms/step - loss: 0.1336 - acc: 0.9535 - val_loss: 0.1078 - val_acc: 0.9570\n",
            "Epoch 76/100\n",
            "100/100 [==============================] - 17s 166ms/step - loss: 0.1087 - acc: 0.9610 - val_loss: 0.3060 - val_acc: 0.9590\n",
            "Epoch 77/100\n",
            "100/100 [==============================] - 16s 164ms/step - loss: 0.0912 - acc: 0.9625 - val_loss: 0.2244 - val_acc: 0.9570\n",
            "Epoch 78/100\n",
            "100/100 [==============================] - 16s 164ms/step - loss: 0.1218 - acc: 0.9590 - val_loss: 0.1418 - val_acc: 0.9580\n",
            "Epoch 79/100\n",
            "100/100 [==============================] - 16s 163ms/step - loss: 0.1198 - acc: 0.9535 - val_loss: 0.0081 - val_acc: 0.9550\n",
            "Epoch 80/100\n",
            "100/100 [==============================] - 16s 164ms/step - loss: 0.1122 - acc: 0.9600 - val_loss: 0.0662 - val_acc: 0.9600\n",
            "Epoch 81/100\n",
            "100/100 [==============================] - 16s 165ms/step - loss: 0.1143 - acc: 0.9610 - val_loss: 0.0654 - val_acc: 0.9610\n",
            "Epoch 82/100\n",
            "100/100 [==============================] - 16s 164ms/step - loss: 0.1188 - acc: 0.9585 - val_loss: 0.0253 - val_acc: 0.9550\n",
            "Epoch 83/100\n",
            "100/100 [==============================] - 16s 163ms/step - loss: 0.1016 - acc: 0.9600 - val_loss: 0.0498 - val_acc: 0.9550\n",
            "Epoch 84/100\n",
            "100/100 [==============================] - 17s 166ms/step - loss: 0.1035 - acc: 0.9645 - val_loss: 0.0255 - val_acc: 0.9590\n",
            "Epoch 85/100\n",
            "100/100 [==============================] - 16s 163ms/step - loss: 0.0957 - acc: 0.9670 - val_loss: 0.0694 - val_acc: 0.9570\n",
            "Epoch 86/100\n",
            "100/100 [==============================] - 17s 166ms/step - loss: 0.1164 - acc: 0.9580 - val_loss: 0.0057 - val_acc: 0.9570\n",
            "Epoch 87/100\n",
            "100/100 [==============================] - 16s 163ms/step - loss: 0.1203 - acc: 0.9595 - val_loss: 0.0947 - val_acc: 0.9570\n",
            "Epoch 88/100\n",
            "100/100 [==============================] - 16s 163ms/step - loss: 0.0954 - acc: 0.9670 - val_loss: 0.1836 - val_acc: 0.9550\n",
            "Epoch 89/100\n",
            "100/100 [==============================] - 16s 164ms/step - loss: 0.1064 - acc: 0.9645 - val_loss: 0.0023 - val_acc: 0.9550\n",
            "Epoch 90/100\n",
            "100/100 [==============================] - 16s 164ms/step - loss: 0.1122 - acc: 0.9605 - val_loss: 0.1141 - val_acc: 0.9550\n",
            "Epoch 91/100\n",
            "100/100 [==============================] - 17s 165ms/step - loss: 0.0899 - acc: 0.9660 - val_loss: 0.2961 - val_acc: 0.9580\n",
            "Epoch 92/100\n",
            "100/100 [==============================] - 16s 164ms/step - loss: 0.0920 - acc: 0.9700 - val_loss: 0.5334 - val_acc: 0.9580\n",
            "Epoch 93/100\n",
            "100/100 [==============================] - 16s 165ms/step - loss: 0.1181 - acc: 0.9565 - val_loss: 0.0179 - val_acc: 0.9560\n",
            "Epoch 94/100\n",
            "100/100 [==============================] - 16s 164ms/step - loss: 0.1177 - acc: 0.9590 - val_loss: 0.3925 - val_acc: 0.9550\n",
            "Epoch 95/100\n",
            "100/100 [==============================] - 17s 166ms/step - loss: 0.1055 - acc: 0.9625 - val_loss: 0.0010 - val_acc: 0.9580\n",
            "Epoch 96/100\n",
            "100/100 [==============================] - 16s 164ms/step - loss: 0.1057 - acc: 0.9650 - val_loss: 0.1445 - val_acc: 0.9560\n",
            "Epoch 97/100\n",
            "100/100 [==============================] - 16s 164ms/step - loss: 0.0969 - acc: 0.9605 - val_loss: 0.0648 - val_acc: 0.9550\n",
            "Epoch 98/100\n",
            "100/100 [==============================] - 16s 164ms/step - loss: 0.1161 - acc: 0.9585 - val_loss: 0.0064 - val_acc: 0.9570\n",
            "Epoch 99/100\n",
            "100/100 [==============================] - 16s 164ms/step - loss: 0.1076 - acc: 0.9525 - val_loss: 0.0050 - val_acc: 0.9560\n",
            "Epoch 100/100\n",
            "100/100 [==============================] - 17s 165ms/step - loss: 0.1155 - acc: 0.9560 - val_loss: 0.1209 - val_acc: 0.9600\n"
          ],
          "name": "stdout"
        }
      ]
    },
    {
      "cell_type": "markdown",
      "metadata": {
        "id": "eVBQgh5M-Rtz",
        "colab_type": "text"
      },
      "source": [
        "## Display learning curves during fine-tuning"
      ]
    },
    {
      "cell_type": "code",
      "metadata": {
        "id": "mbkIw7Ie-NP4",
        "colab_type": "code",
        "outputId": "45bce5e2-9d0b-4f0c-d84e-f56c400c2b6d",
        "colab": {
          "base_uri": "https://localhost:8080/",
          "height": 545
        }
      },
      "source": [
        "%matplotlib inline\n",
        "\n",
        "import matplotlib.pyplot as plt\n",
        "\n",
        "acc = history.history['acc']\n",
        "val_acc = history.history['val_acc']\n",
        "\n",
        "loss = history.history['loss']\n",
        "val_loss = history.history['val_loss']\n",
        "\n",
        "epochs = range(1, len(acc) + 1)\n",
        "\n",
        "# training and validation accuracy\n",
        "\n",
        "plt.plot(epochs, acc, 'bo', label='training acc')\n",
        "plt.plot(epochs, val_acc, 'b', label='validation acc')\n",
        "plt.title('training and validation accuracy')\n",
        "plt.legend()\n",
        "\n",
        "plt.figure()\n",
        "\n",
        "# training and validation loss\n",
        "\n",
        "plt.plot(epochs, loss, 'bo', label='training loss')\n",
        "plt.plot(epochs, val_loss, 'b', label='validation loss')\n",
        "plt.title('training and validation loss')\n",
        "plt.legend()\n",
        "\n",
        "plt.show()"
      ],
      "execution_count": 12,
      "outputs": [
        {
          "output_type": "display_data",
          "data": {
            "image/png": "[encoded data removed]",
            "text/plain": [
              "<Figure size 432x288 with 1 Axes>"
            ]
          },
          "metadata": {
            "tags": [],
            "needs_background": "light"
          }
        },
        {
          "output_type": "display_data",
          "data": {
            "image/png": "[encoded data removed]",
            "text/plain": [
              "<Figure size 432x288 with 1 Axes>"
            ]
          },
          "metadata": {
            "tags": [],
            "needs_background": "light"
          }
        }
      ]
    },
    {
      "cell_type": "markdown",
      "metadata": {
        "id": "obQi6N4ZShdi",
        "colab_type": "text"
      },
      "source": [
        "This looks like overfitting. I should try  adding dropout for the densely connected layer."
      ]
    },
    {
      "cell_type": "markdown",
      "metadata": {
        "id": "he3Nw6TOJwjx",
        "colab_type": "text"
      },
      "source": [
        "## Print out validation loss and accuracy"
      ]
    },
    {
      "cell_type": "code",
      "metadata": {
        "id": "SVQtrk7uJdhl",
        "colab_type": "code",
        "colab": {}
      },
      "source": [
        "val_loss, val_acc = model.evaluate_generator(validation_generator, steps=50)"
      ],
      "execution_count": 0,
      "outputs": []
    },
    {
      "cell_type": "code",
      "metadata": {
        "id": "HpdddLi1SUMe",
        "colab_type": "code",
        "outputId": "3191508f-670d-4640-dc88-200853b950ee",
        "colab": {
          "base_uri": "https://localhost:8080/",
          "height": 53
        }
      },
      "source": [
        "print(\"Validation loss:\", val_loss)\n",
        "print(\"Validation accuracy:\", val_acc)"
      ],
      "execution_count": 14,
      "outputs": [
        {
          "output_type": "stream",
          "text": [
            "Validation loss: 0.0004907560651190579\n",
            "Validation accuracy: 0.9599999785423279\n"
          ],
          "name": "stdout"
        }
      ]
    },
    {
      "cell_type": "markdown",
      "metadata": {
        "id": "yCbWlSewM_h7",
        "colab_type": "text"
      },
      "source": [
        "#Summary:\n",
        "\n",
        "An extra convolutional layer was added, resulting in a very slightly smaller accuracy percentage; however, the validation loss is much improved."
      ]
    }
  ]
}